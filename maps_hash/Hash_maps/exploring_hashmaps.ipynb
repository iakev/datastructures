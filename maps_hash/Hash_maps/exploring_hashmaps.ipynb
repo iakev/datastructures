{
 "cells": [
  {
   "cell_type": "markdown",
   "metadata": {},
   "source": [
    "## Exercise\n",
    "Time to play with dictionaries. Wrking on a dictionary that stores cities by country and continent.\n",
    "e.g.\n",
    "`locations ={'North America':{'USA':['Mountain view']}}`<br><br>\n",
    "NB:\n",
    "- `locations` is a dictionary of dictonaries\n",
    "- `North America` a continent is a dictionary\n",
    "- `USA` is a key\n",
    "- `['Mountain view']` is a value which happens to be a list\n",
    "\n",
    "\n",
    "### Task 1\n",
    "You need to add the cities listed below by modifying the given structure. Cities to add:\n",
    "```\n",
    "Bangalore (India, Asia)\n",
    "New Delhi (India, Asia)\n",
    "Atlanta (USA, North America)\n",
    "Cairo (Egypt, Africa)\n",
    "Shanghai (China, Asia)\n",
    "```\n",
    "Be careful, while adding a city in an existing country. Consider adding it to the existing `list` of cities as:\n",
    "```\n",
    "locations['Asia']['India'].append('New Delhi')\n",
    "```\n",
    "\n",
    "### Task 2\n",
    "You need to add the cities listed below by modifying the given structure. Cities to add:\n",
    "```\n",
    "Bangalore (India, Asia)\n",
    "New Delhi (India, Asia)\n",
    "Atlanta (USA, North America)\n",
    "Cairo (Egypt, Africa)\n",
    "Shanghai (China, Asia)\n",
    "```\n",
    "Be careful, while adding a city in an existing country. Consider adding it to the existing `list` of cities as:\n",
    "```\n",
    "locations['Asia']['India'].append('New Delhi')"
   ]
  },
  {
   "cell_type": "code",
   "execution_count": 3,
   "metadata": {},
   "outputs": [
    {
     "name": "stdout",
     "output_type": "stream",
     "text": [
      "1\n",
      "Atlanta\n",
      "Mountain View\n",
      "2\n",
      "Bangalore - India\n",
      "New Delhi - India\n",
      "Shanghai - China\n"
     ]
    }
   ],
   "source": [
    "#My solution\n",
    "locations = {'North America': {'USA': ['Mountain View']}}\n",
    "locations['Asia'] = {'India': ['Bangalore']}\n",
    "locations['Africa'] = {'Egypt':['Cairo']}\n",
    "locations['Asia']['India'].append('New Delhi')\n",
    "locations['Asia']['China'] = ['Shanghai']\n",
    "locations['North America']['USA'].append('Atlanta')\n",
    "\n",
    "# print(locations)\n",
    "# Task 1: Print a list of all cities in the USA in alphabetic order.\n",
    "print(1)\n",
    "sorted_cities = locations['North America']['USA'] \n",
    "sorted_cities.sort()\n",
    "for city in sorted_cities:\n",
    "    print(city)\n",
    "\n",
    "# Task 2: Print all cities in Asia, in alphabetic order, next to the name of the country\n",
    "print(2)\n",
    "cities = []\n",
    "cities_dict = {}\n",
    "Asia = locations['Asia']\n",
    "\n",
    "for country in Asia.keys():\n",
    "    for city in (Asia[country]):\n",
    "        cities.append(city)\n",
    "        cities_dict[city] = country\n",
    "\n",
    "cities.sort()\n",
    "\n",
    "for city in cities:\n",
    "    if city in cities_dict.keys():\n",
    "        print(\"{} - {}\".format(city,cities_dict[city]))"
   ]
  },
  {
   "cell_type": "code",
   "execution_count": 2,
   "metadata": {},
   "outputs": [
    {
     "name": "stdout",
     "output_type": "stream",
     "text": [
      "1\n",
      "Atlanta\n",
      "Mountain View\n",
      "2\n",
      "Bangalore - India\n",
      "New Delhi - India\n",
      "Shanghai - China\n"
     ]
    }
   ],
   "source": [
    "#Udacity's solution\n",
    "locations = {'North America': {'USA': ['Mountain View']}}\n",
    "locations['North America']['USA'].append('Atlanta')\n",
    "locations['Asia'] = {'India': ['Bangalore']}\n",
    "locations['Asia']['India'].append('New Delhi')\n",
    "locations['Asia']['China'] = ['Shanghai']\n",
    "locations['Africa'] = {'Egypt': ['Cairo']}\n",
    "\n",
    "# Task 2 - Solution\n",
    "# Part 1 - A list of all cities in the USA in alphabetic order.\n",
    "print (1)\n",
    "usa_sorted = sorted(locations['North America']['USA'])\n",
    "for city in usa_sorted:\n",
    "    print (city)\n",
    "\n",
    "# Part 2 - All cities in Asia, in alphabetic order\n",
    "print (2)\n",
    "asia_cities = []\n",
    "for country, cities in locations['Asia'].items():\n",
    "    for city in cities:\n",
    "        asia_cities.append('{} - {}'.format(city, country))\n",
    "asia_sorted = sorted(asia_cities)\n",
    "for city in asia_sorted:\n",
    "    print (city)"
   ]
  }
 ],
 "metadata": {
  "interpreter": {
   "hash": "edd1d3549cf072e5f1c96c28c5126be4dddecf6bd9bc18231197754c991085f8"
  },
  "kernelspec": {
   "display_name": "Python 3.10.0 ('datastructures')",
   "language": "python",
   "name": "python3"
  },
  "language_info": {
   "codemirror_mode": {
    "name": "ipython",
    "version": 3
   },
   "file_extension": ".py",
   "mimetype": "text/x-python",
   "name": "python",
   "nbconvert_exporter": "python",
   "pygments_lexer": "ipython3",
   "version": "3.10.0"
  },
  "orig_nbformat": 4
 },
 "nbformat": 4,
 "nbformat_minor": 2
}
