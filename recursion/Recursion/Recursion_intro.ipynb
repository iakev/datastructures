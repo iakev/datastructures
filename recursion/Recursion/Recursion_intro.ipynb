{
 "cells": [
  {
   "cell_type": "markdown",
   "metadata": {},
   "source": [
    "## Recursion\n",
    "\n",
    "Recursion is a powerful tool in the programming world. It is a tool that can solve even the hardest problems in simple steps. It is based on mathematical concept of *induction*. Basically recursion refers to when a function definition contains a call to the same function. e.g.\n",
    "\n",
    "```python\n",
    "def recursion(m):\n",
    "    n = 1\n",
    "    answer = recursion(n-1) # recursive call \n",
    "```\n",
    "\n",
    "### Steps to solving recursive problems\n",
    " Given a recursive function `f(n)`\n",
    " 1. Properly and exhaustively define the base case.\n",
    "     - A base case can be identified easily by considering edge cases and the simplest input to the recursive function\n",
    " 2. Take a recursive a leap of faith (This is the induction based step).\n",
    "     - In this step you assume that the recursive function is working correctly for previous calls upto `f(n-1)`, meaning you are left with the  `f(n)` case not evaluated.\n",
    "\n",
    " 3. Properly determine and define the relationship between `f(n-1)` and `f(n)`. By enumerating that relationship then you have solved the recursive function.\n",
    "\n",
    "That's it, now one needs much practice to internalize and practice the above algorithm to master recursion.\n",
    "\n",
    "    "
   ]
  },
  {
   "cell_type": "markdown",
   "metadata": {},
   "source": []
  }
 ],
 "metadata": {
  "language_info": {
   "name": "python"
  },
  "orig_nbformat": 4
 },
 "nbformat": 4,
 "nbformat_minor": 2
}
