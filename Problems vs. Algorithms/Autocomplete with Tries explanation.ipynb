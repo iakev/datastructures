{
 "cells": [
  {
   "cell_type": "markdown",
   "metadata": {},
   "source": [
    "## Problem Statement\n",
    "Create a Trie datastructure and use it to make an autocomplete function given some words.\n",
    "\n",
    "### Design Consideerations\n",
    "A dictionary eas used to implement the trie as it proved to be quite easy to visulaize and implement tries using a dictionary.\n",
    "\n",
    "### Space and Time Complexity\n",
    "\n",
    "Due to the dictionary being used the time complexity for accessing, deleting and searching for a trie is `O(n)`.\n",
    "\n",
    "The space complexity for a trie creation is `O(m*n)`, where `m` is the numer of nodes created and `n` is the average length of keys in the trie."
   ]
  }
 ],
 "metadata": {
  "language_info": {
   "name": "python"
  },
  "orig_nbformat": 4
 },
 "nbformat": 4,
 "nbformat_minor": 2
}
