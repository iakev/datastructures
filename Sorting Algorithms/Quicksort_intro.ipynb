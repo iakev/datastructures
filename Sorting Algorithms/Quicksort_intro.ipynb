{
 "cells": [
  {
   "cell_type": "markdown",
   "metadata": {},
   "source": [
    "# Quicksort\n",
    "\n",
    "Quicksort is also a divide and conquer algorithm. A pivot element is chosen and the array divided up by the pivot. All elements greater than the pivot go to the right of the pivot while all elements less than the pivot need to be in the left of the pivot.\n",
    "\n",
    "Here is an [explanation video](https://youtu.be/kUon6854joI).\n"
   ]
  },
  {
   "cell_type": "markdown",
   "metadata": {},
   "source": [
    "## Quicksort effeciency\n",
    "\n",
    "Quicksort effeciency is a bit difficult to compute. The effeciency greatly depends on the pivot element. If the first set og pivot elements are already on their right place it becomes tricky since the elements are compared to every other element like in *bubble sort algorithm*. Hence in the worst case scenario as highlighted above the effeciency becomes $O(n^2)$. For the average and best case scenario the premier pivot element ends up being in the middle (best_case) or near the middle (average case). Hence in this case the effeciency looks like merge sort due to dividing up the array in the middle. Hence the effeciency in this case ends up being $O(n \\log n)$.\n",
    "\n",
    "Watch [this video](https://youtu.be/TH5RT5XcdAo) for more explanation."
   ]
  },
  {
   "cell_type": "markdown",
   "metadata": {},
   "source": [
    "### Tweaks to improve quicksort\n",
    "\n",
    "1. Configure the program to run both halves of the pivot simultaneously. This reduces time to run while using the same computing power.\n",
    "2. Instead of selecting the last element as a pivot (which is a convention), one can analyse the last elements of the array and pick the median as the pivot. This in turn increases the chances of the selected pivot being closer to the middle hence nearing the best case scenario.\n",
    "\n",
    "### Space complexity \n",
    "\n",
    "For the implementation described here then this is an in-place sorting algorithm resulting in a constant space usage. i.e $O(1)$."
   ]
  }
 ],
 "metadata": {
  "language_info": {
   "name": "python"
  },
  "orig_nbformat": 4
 },
 "nbformat": 4,
 "nbformat_minor": 2
}
