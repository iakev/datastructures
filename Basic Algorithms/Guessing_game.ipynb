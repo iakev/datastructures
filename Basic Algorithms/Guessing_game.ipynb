{
 "cells": [
  {
   "cell_type": "markdown",
   "metadata": {},
   "source": [
    "## Binary Search\n",
    "Binary search is probably one of the most common algorithms that we all use without even realizing we are using it.\n",
    "\n",
    "To help build a little intuition for how it works, let's first look at a classic game where the most efficient way to win is to use binary search"
   ]
  },
  {
   "cell_type": "markdown",
   "metadata": {},
   "source": [
    "### Guess the Number\n",
    "This notebook simulates a classic game where you have to guess a random number from within a certain range. Typically, you might have to guess a number from 1 to 10, and have three guesses to get the right answer.\n",
    "\n",
    "In this case, you'll need to guess a random number between 1 and 100, and you will have 7 tries.\n",
    "\n",
    "Try running it and playing a round or two. Notice that the game always tells you whether your guess was too high or too low. This information allows you to rule out some of the numbers (so that you don't waste time guessing those numbers).\n",
    "\n",
    "With this fact in mind, try to make your guesses in the most efficient way you can. Specifically, try to make guesses that rule out the largest number of possibilities each time."
   ]
  },
  {
   "cell_type": "code",
   "execution_count": 2,
   "metadata": {},
   "outputs": [
    {
     "name": "stdout",
     "output_type": "stream",
     "text": [
      "Oops! That's incorrect\n",
      "Go higher!\n",
      "Awesome! You guessed correctly\n"
     ]
    }
   ],
   "source": [
    "import random\n",
    "\n",
    "def guess_the_number(total_tries, start_range, end_range):\n",
    "    if start_range > end_range:\n",
    "        start_range, end_range = end_range, start_range\n",
    "        \n",
    "    random_number = random.randint(start_range, end_range)\n",
    "    try_count = 0\n",
    "    success_message = \"Awesome! You guessed correctly\"\n",
    "    failure_message = \"Sorry! No more retries left\"\n",
    "    miss_message = \"Oops! That's incorrect\"\n",
    "    \n",
    "    num_tries = 0\n",
    "    while num_tries < total_tries:\n",
    "        attempt = int(input(\"Guess the number: \"))\n",
    "        \n",
    "        if attempt == random_number:\n",
    "            print(success_message)\n",
    "            return\n",
    "        print(miss_message)\n",
    "        if attempt < random_number:\n",
    "            print(\"Go higher!\")\n",
    "        else:\n",
    "            print(\"Go lower!\")\n",
    "        num_tries += 1\n",
    "    print(failure_message)\n",
    "\n",
    "total_tries = 7\n",
    "start_range = 1\n",
    "end_range = 100\n",
    "guess_the_number(total_tries, start_range, end_range)"
   ]
  },
  {
   "cell_type": "markdown",
   "metadata": {},
   "source": [
    "Obviously, there is some randomness involved in this game, so in some cases you may run out of tries before guessing correctly. However, if you use a binary search strategy, you'll find the number efficiently and win most of the time.\n",
    "\n",
    "But before we look further into binary search, let's first look at an alternative: Linear search.\n",
    "\n",
    "#### Linear Search\n",
    "Suppose that you have a dictionary of words and that you need to look up a particular word in this dictionary. However, this dictionary is a pretty terrible dictionary, because the words are all in a scrambled order (and not alphabetical as they usually are). What search strategy would you use to find the definition you're looking for?\n",
    "\n",
    "Because the words are in a random order, the best we can do is simply to go one by one, from the first page to the last page, in a sequential manner. Sounds tedious, right? This is called linear search. We have no idea about the order of the words, so we simply have to flip through the pages, one by one, until we find the word we are looking for.\n",
    "\n",
    "With the example of the guessing game, you could use linear search there as well—by simply starting with 1 and guessing every number until you get to 100 (or rather, until you run out of tries and lose the game!)."
   ]
  },
  {
   "cell_type": "markdown",
   "metadata": {},
   "source": [
    "#### Back to binary search\n",
    "Now let's consider a different scenario: Similar to the above, we have a dictionary and a word that we want to find in that dictionary. But this time, the dictionary is sorted in alphabetical order (just as you would expect from any decent dictionary). We still don't know what page our word is on, so we'll need to search for it—but the fact that the dictionary is sorted changes the strategy we should use. *It's better to start at the middle page.*\n",
    "\n",
    "**Note:** With a real dictionary, we might have some idea about the approximate location of a word. For example, if the word is \"aardvark\", we know it is going to be close to the beginning of the dictionary, while if it is \"zebra\", we know it will be close to the end. For the purposes of this example, we're going to ignore this kind of information.\n",
    "\n",
    "Of all the  options, the best strategy we can take is to open the dictionary in the middle.\n",
    "\n",
    "Then we do the following:\n",
    "\n",
    "- Compare the target word with the words on this page.\n",
    "- If the target word comes earlier (in terms of alphabetical order), then we discard the right half of the book. From now on, we will only search in the left half.\n",
    "- Similarly, if the word comes later than the words on this page, then we discard the left half of the book. From now on, we will only search in the right half.\n",
    "\n",
    "Whatever happens, we are guaranteed to be able to discard half of the search space in this first step alone.\n",
    "\n",
    "Next, we repeat this process. We take the remaining half of the dictionary and we open it to the middle page. We then discard the left or right half, and repeat again. We continue this process, eliminating half of the search space at each step, until we find the target word. This is *binary search*.  \n",
    "\n",
    "Note that the word binary means \"having two parts\". Binary search means we are doing a search where, at each step, we divide the input into two parts. Also note that the data we are searching through has to be sorted."
   ]
  },
  {
   "cell_type": "markdown",
   "metadata": {},
   "source": [
    "In summary:\n",
    "- Binary search is a search algorithm where we find the position of a target value by comparing the middle value with this target value.\n",
    "- If the middle value is equal to the target value, then we have our solution (we have found the position of our target value).\n",
    "- If the target value comes before the middle value, we look for the target value in the left half.\n",
    "- Otherwise, we look for the target value in the right half.\n",
    "- We repeat this process as many times as needed, until we find the target value.\n",
    "\n",
    "***NB:*** The data structure we are searching in must be sorted."
   ]
  }
 ],
 "metadata": {
  "interpreter": {
   "hash": "edd1d3549cf072e5f1c96c28c5126be4dddecf6bd9bc18231197754c991085f8"
  },
  "kernelspec": {
   "display_name": "Python 3.10.0 ('datastructures')",
   "language": "python",
   "name": "python3"
  },
  "language_info": {
   "codemirror_mode": {
    "name": "ipython",
    "version": 3
   },
   "file_extension": ".py",
   "mimetype": "text/x-python",
   "name": "python",
   "nbconvert_exporter": "python",
   "pygments_lexer": "ipython3",
   "version": "3.10.0"
  },
  "orig_nbformat": 4
 },
 "nbformat": 4,
 "nbformat_minor": 2
}
