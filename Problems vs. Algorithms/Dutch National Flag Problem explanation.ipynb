{
 "cells": [
  {
   "cell_type": "markdown",
   "metadata": {},
   "source": [
    "## Problem Statement\n",
    "Given an array containing only 0's,1's and 2's perform an in-place sorting algorithm that traverses the input array only once. Hence time complexity is `O(n)`.\n",
    "\n",
    "### Design Considerations\n",
    "The basic idea is that by sorting all the *zeros* and *two's* accurately then the ones are automatically sorted. Hence to achieve this two pointers to keep track of *zeros* and *twos* were used.\n",
    "\n",
    "### Space and Time Complexity.\n",
    "The space complexity of the algorithm was `O(1)` since no extra space was utilized during algorithm implementation.\n",
    "\n",
    "The time complexity was `O(n)` since a complete traversal of the array was performed albeit once."
   ]
  }
 ],
 "metadata": {
  "language_info": {
   "name": "python"
  },
  "orig_nbformat": 4
 },
 "nbformat": 4,
 "nbformat_minor": 2
}
