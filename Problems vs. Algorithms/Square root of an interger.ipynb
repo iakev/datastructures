{
 "cells": [
  {
   "cell_type": "markdown",
   "metadata": {},
   "source": [
    "# Finding the Square Root of an Integer\n",
    "\n",
    "Find the square root of the integer without using any Python library. You have to find the floor value of the square root.\n",
    "\n",
    "For example if the given number is 16, then the answer would be 4.\n",
    "\n",
    "If the given number is 27, the answer would be 5 because `sqrt(27) = 5.196 whose floor value is 5`.\n",
    "\n",
    "The expected time complexity is `O(log(n))`\n",
    "\n",
    "Here is some boilerplate code and test cases to start with:"
   ]
  },
  {
   "cell_type": "code",
   "execution_count": 13,
   "metadata": {},
   "outputs": [
    {
     "name": "stdout",
     "output_type": "stream",
     "text": [
      "Pass\n",
      "Pass\n",
      "Pass\n",
      "Pass\n",
      "Pass\n",
      "Pass\n"
     ]
    }
   ],
   "source": [
    "def sqrt(number):\n",
    "    \"\"\"\n",
    "    Calculate the floored square root of a number\n",
    "\n",
    "    Args:\n",
    "       number(int): Number to find the floored squared root\n",
    "    Returns:\n",
    "       int: Floored Square Root\n",
    "    \"\"\"\n",
    "    l = [i for i in range(1,number+1)]\n",
    "\n",
    "    return binary_search(l,number,0,number)\n",
    "\n",
    "    \n",
    "\n",
    "def binary_search(arr,target,start,end):\n",
    "    mid = start + ((end - start) // 2)\n",
    "\n",
    "    # base cases\n",
    "\n",
    "    if target == 0:\n",
    "        return 0\n",
    "\n",
    "    if (target // arr[mid]) == arr[mid]:\n",
    "        return arr[mid]\n",
    "\n",
    "    #recursive cases\n",
    "    else:\n",
    "\n",
    "        if arr[mid] * arr[mid] > target:\n",
    "            #we discard the last half and recurse on the first half and vice versa in the else case\n",
    "            end =  mid\n",
    "\n",
    "        else:\n",
    "            start = mid + 1\n",
    "            \n",
    "\n",
    "        root = binary_search(arr,target,start,end)\n",
    "\n",
    "    return root\n",
    "\n",
    "\n",
    "print (\"Pass\" if  (3 == sqrt(9)) else \"Fail\")\n",
    "print (\"Pass\" if  (0 == sqrt(0)) else \"Fail\")\n",
    "print (\"Pass\" if  (4 == sqrt(16)) else \"Fail\")\n",
    "print (\"Pass\" if  (1 == sqrt(1)) else \"Fail\")\n",
    "print (\"Pass\" if  (5 == sqrt(27)) else \"Fail\")\n",
    "print (\"Pass\" if  (8 == sqrt(64)) else \"Fail\")"
   ]
  }
 ],
 "metadata": {
  "interpreter": {
   "hash": "edd1d3549cf072e5f1c96c28c5126be4dddecf6bd9bc18231197754c991085f8"
  },
  "kernelspec": {
   "display_name": "Python 3.10.0 ('datastructures')",
   "language": "python",
   "name": "python3"
  },
  "language_info": {
   "codemirror_mode": {
    "name": "ipython",
    "version": 3
   },
   "file_extension": ".py",
   "mimetype": "text/x-python",
   "name": "python",
   "nbconvert_exporter": "python",
   "pygments_lexer": "ipython3",
   "version": "3.10.0"
  },
  "orig_nbformat": 4
 },
 "nbformat": 4,
 "nbformat_minor": 2
}
