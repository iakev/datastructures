{
 "cells": [
  {
   "cell_type": "markdown",
   "metadata": {},
   "source": [
    "## Problem Statement\n",
    "In this problem we need to rearrange array elements so as to form two number such that their sum is maximum. No inbuilt python sorting function is to be used and the time complexity should be `O(n log n)`.\n",
    "\n",
    "### Design considerations\n",
    "Since we have a set constraint for time complexity I decided to use quicksort algorithm. After sorting the input array I then alternately create the two numbers starting from the largest element.\n",
    "\n",
    "### Space and Time Complexity\n",
    "Since quicksort is an in-pace sorting algorithm and no extra data structure is created we can accurately posit that the spce complexity is `O(1)`.\n",
    "\n",
    "For the time complexity we have `O(n log n)` and `O(n)` for creating the numbers. Since `O(n log n)` is larger than `O(n)`. Then we can say that the time complexity is `O(n log n)`."
   ]
  }
 ],
 "metadata": {
  "language_info": {
   "name": "python"
  },
  "orig_nbformat": 4
 },
 "nbformat": 4,
 "nbformat_minor": 2
}
