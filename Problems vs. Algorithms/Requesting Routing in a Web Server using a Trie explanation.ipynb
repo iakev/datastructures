{
 "cells": [
  {
   "cell_type": "markdown",
   "metadata": {},
   "source": [
    "## Problem Statement\n",
    "Create a Trie datastructure and use it to make a router to serve up content according to the matched url path.\n",
    "\n",
    "### Design Consideerations\n",
    "A dictionary eas used to implement the trie as it proved to be quite easy to visulaize and implement tries using a dictionary. However now the dictionary keys are separated and informed by `/`. We use `/` to separate the input path into separate keys to be added to a trie. The last key will contain the content of interest that when requested needs to be served up.\n",
    "\n",
    "### Space and Time Complexity\n",
    "\n",
    "Due to the dictionary being used the time complexity for accessing, deleting and searching for a trie is `O(n)`.\n",
    "\n",
    "The space complexity for a trie creation is `O(m*n)`, where `m` is the numer of nodes created and `n` is the average length of keys in the trie."
   ]
  }
 ],
 "metadata": {
  "language_info": {
   "name": "python"
  },
  "orig_nbformat": 4
 },
 "nbformat": 4,
 "nbformat_minor": 2
}
