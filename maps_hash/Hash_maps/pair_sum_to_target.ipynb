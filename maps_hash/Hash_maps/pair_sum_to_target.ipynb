{
 "cells": [
  {
   "cell_type": "markdown",
   "metadata": {},
   "source": [
    "### Problem Statement\n",
    "\n",
    "Given an `input list` and `target`, return the pair of indices in the list that sum up to the `target`. For example, `input_list = [1,5,7,9]` and `target = 8` the answer would be `[0,3].\n",
    "\n",
    "**Note**\n",
    "\n",
    "1. The best solution takes $O(n)$ time. *Meaning we can't afford to traverse the list more than once.* **Hint think of an additional data structure to be used here.**\n",
    "2. Assume `input_list` has no duplicates. "
   ]
  },
  {
   "cell_type": "code",
   "execution_count": 2,
   "metadata": {},
   "outputs": [],
   "source": [
    "def pair_sum_to_target(input_list, target):\n",
    "    # TODO: Write pair sum to target function\n",
    "    helper_dict ={}\n",
    "    for i in range(len(input_list)):\n",
    "        helper_dict[input_list[i]] = i  \n",
    "        reminder = target - input_list[i]\n",
    "        if reminder in helper_dict.keys():\n",
    "            answer = [helper_dict[reminder]]\n",
    "            answer.append(i)\n",
    "    return answer"
   ]
  },
  {
   "cell_type": "code",
   "execution_count": 8,
   "metadata": {},
   "outputs": [],
   "source": [
    "#udacity solution\n",
    "def pair_sum_to_target(input_list, target):\n",
    "    \n",
    "    # Create a dictionary.\n",
    "    # Each element of the input_list would become a \"key\", and\n",
    "    # the corresponding index in the input_list would become the \"value\"\n",
    "    index_dict = dict()\n",
    "    \n",
    "    # Traverse through the input_list\n",
    "    for index, element in enumerate(input_list):\n",
    "        \n",
    "        # `in` is the way to test for the existence of a \"key\" in a dictionary\n",
    "        if (target - element) in index_dict:\n",
    "            \n",
    "            # Return the TWO indices that sum to the target\n",
    "            return [index_dict[target - element], index]\n",
    "\n",
    "        index_dict[element] = index\n",
    "\n",
    "    return [-1,-1]              # If the target is not achieved"
   ]
  },
  {
   "cell_type": "code",
   "execution_count": 3,
   "metadata": {},
   "outputs": [],
   "source": [
    "def test_function(test_case):\n",
    "    output = pair_sum_to_target(test_case[0], test_case[1])\n",
    "    print(output)\n",
    "    if sorted(output) == test_case[2]:\n",
    "        print(\"Pass\")\n",
    "    else:\n",
    "        print(\"Fail\")"
   ]
  },
  {
   "cell_type": "code",
   "execution_count": 5,
   "metadata": {},
   "outputs": [
    {
     "name": "stdout",
     "output_type": "stream",
     "text": [
      "[0, 3]\n",
      "Pass\n"
     ]
    }
   ],
   "source": [
    "test_case_1 = [[1, 5, 9, 7], 8, [0, 3]]\n",
    "test_function(test_case_1)"
   ]
  },
  {
   "cell_type": "code",
   "execution_count": 6,
   "metadata": {},
   "outputs": [
    {
     "name": "stdout",
     "output_type": "stream",
     "text": [
      "[0, 7]\n",
      "Pass\n"
     ]
    }
   ],
   "source": [
    "test_case_2 = [[10, 5, 9, 8, 12, 1, 16, 6], 16, [0, 7]]\n",
    "test_function(test_case_2)"
   ]
  },
  {
   "cell_type": "code",
   "execution_count": 7,
   "metadata": {},
   "outputs": [
    {
     "name": "stdout",
     "output_type": "stream",
     "text": [
      "[0, 4]\n",
      "Pass\n"
     ]
    }
   ],
   "source": [
    "test_case_3 = [[0, 1, 2, 3, -4], -4, [0, 4]]\n",
    "test_function(test_case_3)"
   ]
  }
 ],
 "metadata": {
  "interpreter": {
   "hash": "edd1d3549cf072e5f1c96c28c5126be4dddecf6bd9bc18231197754c991085f8"
  },
  "kernelspec": {
   "display_name": "Python 3.10.0 ('datastructures')",
   "language": "python",
   "name": "python3"
  },
  "language_info": {
   "codemirror_mode": {
    "name": "ipython",
    "version": 3
   },
   "file_extension": ".py",
   "mimetype": "text/x-python",
   "name": "python",
   "nbconvert_exporter": "python",
   "pygments_lexer": "ipython3",
   "version": "3.10.0"
  },
  "orig_nbformat": 4
 },
 "nbformat": 4,
 "nbformat_minor": 2
}
