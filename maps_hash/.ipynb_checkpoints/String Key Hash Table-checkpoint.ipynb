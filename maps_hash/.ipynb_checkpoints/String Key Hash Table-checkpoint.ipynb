{
 "cells": [
  {
   "cell_type": "markdown",
   "metadata": {
    "graffitiCellId": "id_l4tqapd"
   },
   "source": [
    "# String Key Hash Table"
   ]
  },
  {
   "cell_type": "markdown",
   "metadata": {
    "graffitiCellId": "id_g923s81"
   },
   "source": [
    "### Problem Statement\n",
    "In this quiz, you'll write your own hash table and hash function that uses string keys. Your table will store strings in the buckets. The (bucket) index is calculated by the first two letters of the string, according to the formula below:\n",
    "\n",
    "    Hash Value = (ASCII Value of First Letter * 100) + ASCII Value of Second Letter\n",
    "In the formula above, the generated hash value is the (bucket) index.\n",
    "\n",
    "\n",
    "**Example**: For a string \"UDACITY\", the ASCII value for letters 'U' and 'D' are 85 and 68 respectively. The hash value would be: `(85 *100) + 68 = 8568`. \n",
    "\n",
    "You can use the Python function `ord()` to get the ASCII value of a letter, and `chr()` to get the letter associated with an ASCII value. \n",
    "\n",
    "**Assumptions**\n",
    "1. The string will have at least two letters, \n",
    "2. The first two characters are uppercase letters (ASCII values from 65 to 90). \n",
    "\n",
    "\n",
    "**Rules**\n",
    "- Do not use a Python dictionary—only lists! \n",
    "- Store `lists` at each bucket, and not just the string itself. For example, you can store \"UDACITY\" at index 8568 as [\"UDACITY\"].\n",
    "\n",
    "### Instructions\n",
    "Create a `HashTable` class, with the following functions:\n",
    " - `store()` - a function that takes a string as input, and stores it into the hash table.\n",
    " - `lookup()` - a function that checks if a string is already available in the hash table. If yes, return the hash value, else return -1.\n",
    " - `calculate_hash_value()` - a helper function to calculate a hash value of a given string. "
   ]
  },
  {
   "cell_type": "markdown",
   "metadata": {
    "graffitiCellId": "id_850d2mv"
   },
   "source": [
    "### Exercise - Try building a string hash table!"
   ]
  },
  {
   "cell_type": "code",
   "execution_count": 2,
   "metadata": {
    "graffitiCellId": "id_ru0tzx9"
   },
   "outputs": [],
   "source": [
    "\"\"\"Write a HashTable class that stores strings\n",
    "in a hash table, where keys are calculated\n",
    "using the first two letters of the string.\"\"\"\n",
    "\n",
    "class HashTable(object):\n",
    "    def __init__(self):\n",
    "        self.table = [None]*10000\n",
    "\n",
    "    def store(self, string):\n",
    "        \"\"\"TODO: Input a string that's stored in \n",
    "        the table.\"\"\"\n",
    "        hash_value = self.calculate_hash_value(string)\n",
    "        stored_list =[]\n",
    "        stored_list.append(string)\n",
    "        self.table[hash_value] = stored_list\n",
    "\n",
    "    def lookup(self, string):\n",
    "        \"\"\"TODO: Return the hash value if the\n",
    "        string is already in the table.\n",
    "        Return -1 otherwise.\"\"\"\n",
    "        hash_value = self.calculate_hash_value(string)\n",
    "        if self.table[hash_value] is not None and string in self.table[hash_value]:\n",
    "            return hash_value\n",
    "        return -1\n",
    "\n",
    "    def calculate_hash_value(self, string):\n",
    "        \"\"\"TODO: Helper function to calulate a\n",
    "        hash value from a string.\"\"\"\n",
    "        first_letters = string[0:2]\n",
    "        hash_value = (ord(first_letters[0])*100) + ord(first_letters[1])\n",
    "        return hash_value\n"
   ]
  },
  {
   "cell_type": "markdown",
   "metadata": {
    "graffitiCellId": "id_a2kdbht"
   },
   "source": [
    "### Test Cases - Let's test your function"
   ]
  },
  {
   "cell_type": "code",
   "execution_count": 3,
   "metadata": {
    "graffitiCellId": "id_uqanz2j"
   },
   "outputs": [
    {
     "ename": "TypeError",
     "evalue": "ord() expected a character, but string of length 100 found",
     "output_type": "error",
     "traceback": [
      "\u001b[0;31m---------------------------------------------------------------------------\u001b[0m",
      "\u001b[0;31mTypeError\u001b[0m                                 Traceback (most recent call last)",
      "\u001b[0;32m<ipython-input-3-3d422aec3f4d>\u001b[0m in \u001b[0;36m<module>\u001b[0;34m()\u001b[0m\n\u001b[1;32m      3\u001b[0m \u001b[0;34m\u001b[0m\u001b[0m\n\u001b[1;32m      4\u001b[0m \u001b[0;31m# Test calculate_hash_value\u001b[0m\u001b[0;34m\u001b[0m\u001b[0;34m\u001b[0m\u001b[0m\n\u001b[0;32m----> 5\u001b[0;31m \u001b[0mprint\u001b[0m \u001b[0;34m(\u001b[0m\u001b[0mhash_table\u001b[0m\u001b[0;34m.\u001b[0m\u001b[0mcalculate_hash_value\u001b[0m\u001b[0;34m(\u001b[0m\u001b[0;34m'UDACITY'\u001b[0m\u001b[0;34m)\u001b[0m\u001b[0;34m)\u001b[0m    \u001b[0;31m# Should be 8568\u001b[0m\u001b[0;34m\u001b[0m\u001b[0m\n\u001b[0m\u001b[1;32m      6\u001b[0m \u001b[0;34m\u001b[0m\u001b[0m\n\u001b[1;32m      7\u001b[0m \u001b[0;31m# Test lookup edge case\u001b[0m\u001b[0;34m\u001b[0m\u001b[0;34m\u001b[0m\u001b[0m\n",
      "\u001b[0;32m<ipython-input-2-a60a1778e48e>\u001b[0m in \u001b[0;36mcalculate_hash_value\u001b[0;34m(self, string)\u001b[0m\n\u001b[1;32m     28\u001b[0m         hash value from a string.\"\"\"\n\u001b[1;32m     29\u001b[0m         \u001b[0mfirst_letters\u001b[0m \u001b[0;34m=\u001b[0m \u001b[0mstring\u001b[0m\u001b[0;34m[\u001b[0m\u001b[0;36m0\u001b[0m\u001b[0;34m:\u001b[0m\u001b[0;36m2\u001b[0m\u001b[0;34m]\u001b[0m\u001b[0;34m\u001b[0m\u001b[0m\n\u001b[0;32m---> 30\u001b[0;31m         \u001b[0mhash_value\u001b[0m \u001b[0;34m=\u001b[0m \u001b[0mord\u001b[0m\u001b[0;34m(\u001b[0m\u001b[0mfirst_letters\u001b[0m\u001b[0;34m[\u001b[0m\u001b[0;36m0\u001b[0m\u001b[0;34m]\u001b[0m\u001b[0;34m*\u001b[0m\u001b[0;36m100\u001b[0m\u001b[0;34m)\u001b[0m \u001b[0;34m+\u001b[0m \u001b[0mord\u001b[0m\u001b[0;34m(\u001b[0m\u001b[0mfirst_letters\u001b[0m\u001b[0;34m[\u001b[0m\u001b[0;36m1\u001b[0m\u001b[0;34m]\u001b[0m\u001b[0;34m)\u001b[0m\u001b[0;34m\u001b[0m\u001b[0m\n\u001b[0m\u001b[1;32m     31\u001b[0m         \u001b[0;32mreturn\u001b[0m \u001b[0mhash_value\u001b[0m\u001b[0;34m\u001b[0m\u001b[0m\n",
      "\u001b[0;31mTypeError\u001b[0m: ord() expected a character, but string of length 100 found"
     ]
    }
   ],
   "source": [
    "# Setup\n",
    "hash_table = HashTable()\n",
    "\n",
    "# Test calculate_hash_value\n",
    "print (hash_table.calculate_hash_value('UDACITY'))    # Should be 8568\n",
    "\n",
    "# Test lookup edge case\n",
    "print (hash_table.lookup('UDACITY'))                  # Should be -1\n",
    "\n",
    "# Test store\n",
    "hash_table.store('UDACITY')\n",
    "print (hash_table.lookup('UDACITY'))                  # Should be 8568\n",
    "\n",
    "# Test store edge case\n",
    "hash_table.store('UDACIOUS')\n",
    "print (hash_table.lookup('UDACIOUS'))                 # Should be 8568"
   ]
  },
  {
   "cell_type": "markdown",
   "metadata": {
    "graffitiCellId": "id_53gqd1t"
   },
   "source": [
    "<span class=\"graffiti-highlight graffiti-id_53gqd1t-id_55iwcxy\"><i></i><button>Show Solution</button></span>"
   ]
  }
 ],
 "metadata": {
  "graffiti": {
   "firstAuthorId": "10694620118",
   "id": "id_72hc5z3",
   "language": "EN"
  },
  "kernelspec": {
   "display_name": "Python 3",
   "language": "python",
   "name": "python3"
  },
  "language_info": {
   "codemirror_mode": {
    "name": "ipython",
    "version": 3
   },
   "file_extension": ".py",
   "mimetype": "text/x-python",
   "name": "python",
   "nbconvert_exporter": "python",
   "pygments_lexer": "ipython3",
   "version": "3.6.3"
  },
  "widgets": {
   "state": {},
   "version": "1.1.2"
  }
 },
 "nbformat": 4,
 "nbformat_minor": 2
}
