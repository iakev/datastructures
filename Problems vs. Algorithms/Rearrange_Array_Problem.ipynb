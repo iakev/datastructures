{
 "cells": [
  {
   "cell_type": "markdown",
   "metadata": {},
   "source": [
    "## Rearrange Array Elements\n",
    "Rearrange Array Elements so as to form two number such that their sum is maximum. Return these two numbers. You can assume that all array elements are in the range [0, 9]. The number of digits in both the numbers cannot differ by more than 1. You're not allowed to use any sorting function that Python provides and the expected time complexity is `O(nlog(n))`.\n",
    "\n",
    "for e.g. [1, 2, 3, 4, 5]\n",
    "\n",
    "The expected answer would be [531, 42]. Another expected answer can be [542, 31]. In scenarios such as these when there are more than one possible answers, return any one.\n",
    "\n",
    "Here is some boilerplate code and test cases to start with:"
   ]
  },
  {
   "cell_type": "code",
   "execution_count": 20,
   "metadata": {},
   "outputs": [],
   "source": [
    "def rearrange_digits(input_list):\n",
    "    \"\"\"\n",
    "    Rearrange Array Elements so as to form two number such that their sum is maximum.\n",
    "\n",
    "    Args:\n",
    "       input_list(list): Input List\n",
    "    Returns:\n",
    "       (int),(int): Two maximum sums\n",
    "    \"\"\"\n",
    "    quicksort(input_list)  #in-place sorting\n",
    "\n",
    "    first_int = \"\"\n",
    "    second_int = \"\"\n",
    "\n",
    "    for i in range(len(input_list)-1,-1,-2):\n",
    "        first_int += str(input_list[i])\n",
    "        if i-1 != -1: \n",
    "            second_int += str(input_list[i-1])\n",
    "            \n",
    "\n",
    "    return [int(first_int),int(second_int)]\n",
    "\n",
    "def quicksort(input_list):\n",
    "    start_index = 0\n",
    "    end_index = len(input_list)-1\n",
    "\n",
    "    sort_all(input_list,start_index,end_index)\n",
    "\n",
    "def sort_all(input_list,start_index,end_index):\n",
    "\n",
    "    if end_index <= start_index:\n",
    "        return\n",
    "\n",
    "    pivot_index = sort_a_bit(input_list,start_index,end_index)\n",
    "    sort_all(input_list,start_index,pivot_index-1)\n",
    "    sort_all(input_list,pivot_index+1,end_index)\n",
    "\n",
    "def sort_a_bit(input_list,start_index,end_index):\n",
    "\n",
    "    left_index = start_index\n",
    "    pivot_index = end_index\n",
    "    pivot_value = input_list[pivot_index]\n",
    "\n",
    "    \n",
    "\n",
    "    while (pivot_index != left_index):\n",
    "        item = input_list[left_index]\n",
    "\n",
    "        if input_list[left_index] <= pivot_value:\n",
    "            left_index += 1\n",
    "            continue\n",
    "\n",
    "        input_list[left_index] = input_list[pivot_index-1]\n",
    "\n",
    "        input_list[pivot_index - 1] = pivot_value\n",
    "\n",
    "        input_list[pivot_index] = item\n",
    "\n",
    "        pivot_index -= 1\n",
    "\n",
    "    return pivot_index"
   ]
  },
  {
   "cell_type": "code",
   "execution_count": 21,
   "metadata": {},
   "outputs": [],
   "source": [
    "def test_function(test_case):\n",
    "    output = rearrange_digits(test_case[0])\n",
    "    solution = test_case[1]\n",
    "    if sum(output) == sum(solution):\n",
    "        print(\"Pass\")\n",
    "    else:\n",
    "        print(\"Fail\")"
   ]
  },
  {
   "cell_type": "code",
   "execution_count": 22,
   "metadata": {},
   "outputs": [
    {
     "name": "stdout",
     "output_type": "stream",
     "text": [
      "[964, 852]\n",
      "Pass\n"
     ]
    }
   ],
   "source": [
    "test_case = [[4, 6, 2, 5, 9, 8], [964, 852]]\n",
    "test_function(test_case)"
   ]
  },
  {
   "cell_type": "code",
   "execution_count": 23,
   "metadata": {},
   "outputs": [
    {
     "name": "stdout",
     "output_type": "stream",
     "text": [
      "[531, 42]\n",
      "Pass\n"
     ]
    }
   ],
   "source": [
    "test_case = [[1, 2, 3, 4, 5], [542, 31]]\n",
    "test_function(test_case)"
   ]
  },
  {
   "cell_type": "code",
   "execution_count": 24,
   "metadata": {},
   "outputs": [
    {
     "name": "stdout",
     "output_type": "stream",
     "text": [
      "[972, 831]\n",
      "Fail\n"
     ]
    }
   ],
   "source": [
    "test_case = [[8,3,1,7,9,2],[972,831]]\n",
    "test_function(test_case)"
   ]
  },
  {
   "cell_type": "code",
   "execution_count": null,
   "metadata": {},
   "outputs": [],
   "source": []
  }
 ],
 "metadata": {
  "interpreter": {
   "hash": "edd1d3549cf072e5f1c96c28c5126be4dddecf6bd9bc18231197754c991085f8"
  },
  "kernelspec": {
   "display_name": "Python 3.10.0 ('datastructures')",
   "language": "python",
   "name": "python3"
  },
  "language_info": {
   "codemirror_mode": {
    "name": "ipython",
    "version": 3
   },
   "file_extension": ".py",
   "mimetype": "text/x-python",
   "name": "python",
   "nbconvert_exporter": "python",
   "pygments_lexer": "ipython3",
   "version": "3.10.0"
  },
  "orig_nbformat": 4
 },
 "nbformat": 4,
 "nbformat_minor": 2
}
