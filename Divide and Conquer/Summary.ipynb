{
 "cells": [
  {
   "cell_type": "markdown",
   "metadata": {},
   "source": [
    "# Summary\n",
    "Divide and Conquer approach is suitable to solve a big (scale) problem by breaking it into smaller sub-problems, where each sub-problem looks exactly similar to the original problem. In general, there are three phases:\n",
    "\n",
    "1. Divide - Break the given problem into smaller sub-problems\n",
    "2. Conquer - Solve each sub-problem using recursion. The smallest sub-problem (base case) would have a simple straightforward solution.\n",
    "3. Combine - This phase will automatically execute as a part of the recursion call stack, which combines the solution of smaller sub-problems to generate the final solution.\n",
    "4. \n",
    "Quicksort and Mergesort are a few examples that follow the Divide and Conquer approach. There are a few points to note while deciding if one should go for faster Divide and Conquer approach:\n",
    "\n",
    "1. The problem should be on a bigger scale.\n",
    "2. The sub-problem must look precisely similar to the original problem in hand.\n",
    "3. Use recursion to solve the problem. It means that the solution will be built for the smallest sub-problem (base case) first.\n",
    "4. There is a trade-off between memory usage and speed of execution. Recursion comes with a price of extra memory usage for executing the call stack. But, if you use multi-threading, you can compute the solution even much faster.\n",
    "5. In case if many sub-problems look precisely the same, then we don't want to re-execute the same again and again. In such cases, you can consider storing the results of the execution, and thus reuse them whenever required. This strategy is called Memoization (in Dynamic Programming approach)."
   ]
  }
 ],
 "metadata": {
  "language_info": {
   "name": "python"
  },
  "orig_nbformat": 4
 },
 "nbformat": 4,
 "nbformat_minor": 2
}
