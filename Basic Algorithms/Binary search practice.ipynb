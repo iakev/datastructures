{
 "cells": [
  {
   "cell_type": "markdown",
   "metadata": {},
   "source": [
    "## Binary search practice\n",
    "Let's get some practice doing binary search on an array of integers. We'll solve the problem two different ways—both iteratively and resursively.\n",
    "\n",
    "Here is a reminder of how the algorithm works:\n",
    "\n",
    "1. Find the center of the list( try setting an upper bound and a lower bound to find the center)\n",
    "2. Check to see if the element at the center is your target.\n",
    "3. If it is, return the index.\n",
    "4. If not, is the target greater or less than the element?\n",
    "5. If greater, move the lower bound to just above the current center\n",
    "6. If less, move the upper bound to just below the current center.\n",
    "7. Repeat steps 1-6 until you find the target or until the bounds are the same or cross(the upper bound is less than the lower bound)\n",
    "\n",
    "### Problem statement:\n",
    "Given a sorted array of intergers, and a target value, find the index of the target value in the array. If the target value is not present in the array, return -1\n",
    "\n",
    "#### Iterative solution.\n",
    "Using loops we come up with the following below"
   ]
  },
  {
   "cell_type": "code",
   "execution_count": 37,
   "metadata": {},
   "outputs": [],
   "source": [
    "def binary_search(array, target):\n",
    "    '''Write a function that implements the binary search algorithm using iteration\n",
    "   \n",
    "    args:\n",
    "      array: a sorted array of items of the same type\n",
    "      target: the element you're searching for\n",
    "   \n",
    "    returns:\n",
    "      int: the index of the target, if found, in the source\n",
    "      -1: if the target is not found\n",
    "    '''\n",
    "    upper_bound = len(array) - 1 #last index\n",
    "    lower_bound = 0\n",
    "    current_center = (upper_bound - lower_bound) // 2 #using floor operator to deal with even and odd numbered elements in array\n",
    "\n",
    "    while lower_bound <= upper_bound:\n",
    "      if array[current_center] == target:\n",
    "        return current_center\n",
    "\n",
    "      else:\n",
    "        if array[current_center] < target:\n",
    "          lower_bound = current_center + 1\n",
    "                \n",
    "        else:\n",
    "          upper_bound = current_center - 1\n",
    "\n",
    "      current_center = (upper_bound + lower_bound) // 2 \n",
    "\n",
    "    return -1\n",
    "\n",
    "#########################UDACITY SOLUTION ################################################\n",
    "# def binary_search(array, target):\n",
    "#     '''Write a function that implements the binary search algorithm using iteration\n",
    "   \n",
    "#     args:\n",
    "#       array: a sorted array of items of the same type\n",
    "#       target: the element you're searching for\n",
    "   \n",
    "#     returns:\n",
    "#       int: the index of the target, if found, in the source\n",
    "#       -1: if the target is not found\n",
    "#     '''\n",
    "#     start_index = 0\n",
    "#     end_index = len(array) - 1\n",
    "    \n",
    "#     while start_index <= end_index:\n",
    "#         mid_index = (start_index + end_index)//2        # integer division in Python 3\n",
    "        \n",
    "#         mid_element = array[mid_index]\n",
    "        \n",
    "#         if target == mid_element:                       # we have found the element\n",
    "#             return mid_index\n",
    "        \n",
    "#         elif target < mid_element:                      # the target is less than mid element\n",
    "#             end_index = mid_index - 1                   # we will only search in the left half\n",
    "        \n",
    "#         else:                                           # the target is greater than mid element\n",
    "#             start_index = mid_element + 1               # we will search only in the right half\n",
    "    \n",
    "#     return -1"
   ]
  },
  {
   "cell_type": "code",
   "execution_count": 38,
   "metadata": {},
   "outputs": [],
   "source": [
    "def test_function(test_case):\n",
    "    answer = binary_search(test_case[0], test_case[1])\n",
    "    if answer == test_case[2]:\n",
    "        print(\"Pass!\")\n",
    "    else:\n",
    "        print(\"Fail!\")"
   ]
  },
  {
   "cell_type": "code",
   "execution_count": 39,
   "metadata": {},
   "outputs": [
    {
     "name": "stdout",
     "output_type": "stream",
     "text": [
      "Pass!\n"
     ]
    }
   ],
   "source": [
    "# test 1\n",
    "array = [0, 1, 2, 3, 4, 5, 6, 7, 8, 9, 10]\n",
    "target =6\n",
    "index = 6\n",
    "test_case = [array, target, index]\n",
    "test_function(test_case)"
   ]
  },
  {
   "cell_type": "code",
   "execution_count": 40,
   "metadata": {},
   "outputs": [
    {
     "name": "stdout",
     "output_type": "stream",
     "text": [
      "Pass!\n"
     ]
    }
   ],
   "source": [
    "# test 2\n",
    "array = [0, 1, 2, 3, 4, 5, 6, 7, 8, 9, 10]\n",
    "target =11\n",
    "index = -1\n",
    "test_case = [array, target, index]\n",
    "test_function(test_case)"
   ]
  },
  {
   "cell_type": "markdown",
   "metadata": {},
   "source": [
    "#### Recursive solution\n",
    "Solving the above problem but in a recursive manner still."
   ]
  },
  {
   "cell_type": "code",
   "execution_count": 65,
   "metadata": {},
   "outputs": [],
   "source": [
    "def binary_search_recursive(array, target):\n",
    "    '''Write a function that implements the binary search algorithm using recursion\n",
    "    \n",
    "    args:\n",
    "      array: a sorted array of items of the same type\n",
    "      target: the element you're searching for\n",
    "         \n",
    "    returns:\n",
    "      int: the index of the target, if found, in the source\n",
    "      -1: if the target is not found\n",
    "    '''\n",
    "    \n",
    "    return binary_search_recursive_soln(array, target,0,len(array)-1)\n",
    "\n",
    "def binary_search_recursive_soln(array,target,start,end):\n",
    "    center = (end + start) // 2\n",
    "    #defining base case\n",
    "    if array[center] == target:\n",
    "        return center\n",
    "    \n",
    "    elif start > end:\n",
    "        return -1\n",
    "\n",
    "    # rest of recursive cases\n",
    "    else:\n",
    "        if array[center] > target:\n",
    "            end = center - 1\n",
    "\n",
    "        else:\n",
    "            start = center + 1\n",
    "        \n",
    "        index = binary_search_recursive_soln(array,target,start,end)\n",
    "    \n",
    "    return index\n",
    "\n",
    "############################# UDACITY SOLUTION ###################################################\n",
    "# def binary_search_recursive_soln(array, target, start_index, end_index):\n",
    "#     if start_index > end_index:\n",
    "#         return -1\n",
    "    \n",
    "#     mid_index = (start_index + end_index)//2\n",
    "#     mid_element = array[mid_index]\n",
    "    \n",
    "#     if mid_element == target:\n",
    "#         return mid_index\n",
    "#     elif target < mid_element:\n",
    "#         return binary_search_recursive_soln(array, target, start_index, mid_index - 1)\n",
    "#     else:\n",
    "#         return binary_search_recursive_soln(array, target, mid_index + 1, end_index)"
   ]
  },
  {
   "cell_type": "code",
   "execution_count": 63,
   "metadata": {},
   "outputs": [],
   "source": [
    "def test_function(test_case):\n",
    "    answer = binary_search_recursive(test_case[0], test_case[1])\n",
    "    if answer == test_case[2]:\n",
    "        print(\"Pass!\")\n",
    "    else:\n",
    "        print(\"Fail!\")"
   ]
  },
  {
   "cell_type": "code",
   "execution_count": 70,
   "metadata": {},
   "outputs": [
    {
     "name": "stdout",
     "output_type": "stream",
     "text": [
      "Pass!\n"
     ]
    }
   ],
   "source": [
    "array = [0, 1, 2, 3, 4, 5, 6, 7, 8, 9]\n",
    "target = 10\n",
    "index = -1\n",
    "test_case = [array, target, index]\n",
    "test_function(test_case)"
   ]
  },
  {
   "cell_type": "code",
   "execution_count": null,
   "metadata": {},
   "outputs": [],
   "source": []
  }
 ],
 "metadata": {
  "interpreter": {
   "hash": "edd1d3549cf072e5f1c96c28c5126be4dddecf6bd9bc18231197754c991085f8"
  },
  "kernelspec": {
   "display_name": "Python 3.10.0 ('datastructures')",
   "language": "python",
   "name": "python3"
  },
  "language_info": {
   "codemirror_mode": {
    "name": "ipython",
    "version": 3
   },
   "file_extension": ".py",
   "mimetype": "text/x-python",
   "name": "python",
   "nbconvert_exporter": "python",
   "pygments_lexer": "ipython3",
   "version": "3.10.0"
  },
  "orig_nbformat": 4
 },
 "nbformat": 4,
 "nbformat_minor": 2
}
