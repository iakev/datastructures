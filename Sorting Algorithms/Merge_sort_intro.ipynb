{
 "cells": [
  {
   "cell_type": "markdown",
   "metadata": {},
   "source": [
    "# Merge Sort\n",
    "The basic idea was to split the input array down as much as possible and then building it back-up again while sorted.\n",
    "This is the main idea of a **divide and conquer** algorithm.\n"
   ]
  },
  {
   "cell_type": "markdown",
   "metadata": {},
   "source": [
    "See the example below to see the splitting down of the array.<br><br>\n",
    "\n",
    "<img src=\"images/Screenshot from 2022-03-02 15-03-35.png\" width= 600 height=400>"
   ]
  },
  {
   "cell_type": "markdown",
   "metadata": {},
   "source": [
    "See below for the building up and keeping track of number of comparisions. <br><br>\n",
    "\n",
    "<img src=\"images/Screenshot from 2022-03-02 15-06-24.png\" width=600 height=400>\n"
   ]
  },
  {
   "cell_type": "markdown",
   "metadata": {},
   "source": [
    "## Merge sort effeciency\n",
    "\n",
    "For the above example we do comparisions less than one of the size of array. Hence as an approximation we can assume we will do 7 comparisions at max since at each step we are nearing 7 comparisons, however we do not reach 7. Therefore 7 is an upper bound. Using a table to get the steps here's what we have. Therefore the number of comparisions can be `n`. \n",
    "\n",
    "<img src=\"images/Screenshot from 2022-03-02 15-09-49.png\" width=600 height=400>\n",
    "\n",
    "<br><br>\n",
    "\n",
    "As can be seen from above the number of steps increments after power of 2 and not at exactly power of 2. Since we are approximating we don't really care about the actual interval of change just that we get the interval. Thererfore the number of steps is $O(\\log n)$.\n",
    "\n",
    "\n",
    "Hence the overall effeceincy is equal to $O(number of comparisions * number of steps )$. Since number of steps can be approximated as `n` and number of steps as `log n`. Therefore for the merge sort we have an effeciency of $O(n \\log n)$.\n",
    "\n",
    "This is a  better effeciency compared to bubble sort effeciency of $O(n^2)$."
   ]
  },
  {
   "cell_type": "markdown",
   "metadata": {},
   "source": [
    "### Space complexity\n",
    "\n",
    "Merge sort requires copying of values into new arrays during implementation. However we get rid of the arrays after we are done with sorting at each step. Remeber at each step we require two arrays one we are copying from and the ones we are copying to. Since we eventually git rid of the extra arrays we assume a space complexity of $O(n)$."
   ]
  }
 ],
 "metadata": {
  "language_info": {
   "name": "python"
  },
  "orig_nbformat": 4
 },
 "nbformat": 4,
 "nbformat_minor": 2
}
