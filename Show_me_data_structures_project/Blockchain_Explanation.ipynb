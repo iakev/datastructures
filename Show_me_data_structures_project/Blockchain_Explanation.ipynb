{
 "cells": [
  {
   "cell_type": "markdown",
   "metadata": {},
   "source": [
    "## Problem statement\n",
    "Implement a block chain as a linked list storing the hash of previous block and each block having its hash,timestamp and data\n",
    "\n",
    "### Design considerations\n",
    "Decided to generate random strings as data for each block. The hash for each block was prepared by SHA256 algorithm found in python's `hashlib` library. Hash was generated from data,timestamp and previous block's hash.\n",
    "\n",
    "### Space and Time complexity\n",
    "Adding blocks to chain is a constant time operation hence it's $O(1)$.\n",
    "\n",
    "Space is $O(n)$ since it depends on the number of blocks in the chain.\n"
   ]
  },
  {
   "cell_type": "markdown",
   "metadata": {},
   "source": []
  }
 ],
 "metadata": {
  "language_info": {
   "name": "python"
  },
  "orig_nbformat": 4
 },
 "nbformat": 4,
 "nbformat_minor": 2
}
