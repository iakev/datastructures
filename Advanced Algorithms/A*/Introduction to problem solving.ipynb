{
 "cells": [
  {
   "cell_type": "markdown",
   "metadata": {},
   "source": [
    "Kindly check out [this](https://youtu.be/pHySYq-wghU). "
   ]
  },
  {
   "cell_type": "markdown",
   "metadata": {},
   "source": [
    "Second [video](https://youtu.be/gepUYmWERZA)."
   ]
  },
  {
   "cell_type": "markdown",
   "metadata": {},
   "source": [
    "Third [video](https://youtu.be/5lrkPKQwOFE).<br><br>\n",
    "Fouth [video](https://youtu.be/oPe45CJ_o0k)<br><br>\n",
    "Fifth [video](https://youtu.be/rTddvJ0qd6c)<br><br>\n",
    "Sixth [video](https://youtu.be/QSjh-ypUhto)<br><br>\n",
    "7th [video](https://youtu.be/bEfXeDfoIY8) <br><br>\n",
    "8th [video](https://youtu.be/zpOf15umlkE) <br><br>\n",
    "9th [video](https://youtu.be/MoyBcrw-n_M) <br><br>\n",
    "Now that we've added quite a few paths to our map, it can be a bit difficult to follow which paths are being checked at each step.\n",
    "\n",
    "Starting at 1:30, we are checking the path coming into Craiova from Rimnicu Vilcea, and heading toward either Drobeta (366+120 = 486) or Pitesti (366+318 = 504), both of which are worse than our current best of 418.\n",
    "\n",
    "After that, we already know the path to get to Drobeta was worse than the path to get to Craiova, so there cannot be a more beneficial path heading to that already explored location.\n",
    "\n",
    "\n",
    "\n",
    "\n",
    "Now that we've added quite a few paths to our map, it can be a bit difficult to follow which paths are being checked at each step.\n",
    "\n",
    "Starting at 1:30, we are checking the path coming into Craiova from Rimnicu Vilcea, and heading toward either Drobeta (366+120 = 486) or Pitesti (366+318 = 504), both of which are worse than our current best of 418.\n",
    "\n",
    "After that, we already know the path to get to Drobeta was worse than the path to get to Craiova, so there cannot be a more beneficial path heading to that already explored location.\n",
    "\n",
    "\n",
    "10th [video](https://youtu.be/8xH-3WtswDs) <br><br>\n",
    "Uniform Cost search - expands out equally in all directions, may expend additional effort getting to a fairly direct path to the goal.\n",
    "Greedy best-first search - expands outward toward locations estimated as closer to the goal. If a direct path is available, expends much less effort than Uniform Cost; however, it does not consider any routes in which it may need to temporarily take a further away path in order to arrive at an overall shorter path.\n",
    "A* Search - utilizes both of these - will try to optimize with both the shortest path and the goal in mind. We'll see how this works in the next video.\n",
    "\n",
    "\n",
    "Uniform Cost search - expands out equally in all directions, may expend additional effort getting to a fairly direct path to the goal. Greedy best-first search - expands outward toward locations estimated as closer to the goal. If a direct path is available, it expends much less effort than Uniform Cost; however, it does not consider any routes in which it may need to temporarily take a further away path in order to arrive at an overall shorter path. A* Search - utilizes both of these - will try to optimize with both the shortest path and the goal in mind. We'll see how this works in the next video.\n",
    "\n",
    "11th [video](https://youtu.be/HNdOFYCtfu4) <br><br>\n",
    "\n",
    "11.5 th [video](https://youtu.be/_cPSOQ-sC2k) <br><br>\n",
    "\n"
   ]
  },
  {
   "cell_type": "code",
   "execution_count": null,
   "metadata": {},
   "outputs": [],
   "source": []
  }
 ],
 "metadata": {
  "language_info": {
   "name": "python"
  },
  "orig_nbformat": 4
 },
 "nbformat": 4,
 "nbformat_minor": 2
}
