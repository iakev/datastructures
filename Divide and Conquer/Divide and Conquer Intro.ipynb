{
 "cells": [
  {
   "cell_type": "markdown",
   "metadata": {},
   "source": [
    "# Divide and conquer\n",
    "In this section, we'll discuss algorithms that use a strategy called **divide and conquer** to solve problems more efficiently. The name comes from the idea that the algorithm will break `(or divide)` the problem down into sub-problems that can be more easily solved `(or conquered)`. Then, the solutions to these sub-problems are combined to yield an answer to the original problem.\n",
    "\n",
    "Over the next several videos, Eric will walk through an example—specifically, he'll demonstrate how to use a divide and conquer algorithm to efficiently find the median element out of a collection of unsorted numbers. Following this, you'll have the opportunity to do some hands-on work and solve several different problems using a divide-and-conquer approach."
   ]
  },
  {
   "cell_type": "markdown",
   "metadata": {},
   "source": [
    "Look at this [introductory video](https://youtu.be/x9LzFLGgH88)\n",
    "\n",
    "**Additional Read** - The problem of finding $k^{th}$ smallest element from an unsorted array is generally called as **$k^{th}$ order statistic**. The BFPRT (1973) solution mentioned above is widely known as [Median of medians](https://en.wikipedia.org/wiki/Median_of_medians), that we will discuss in the next video."
   ]
  },
  {
   "cell_type": "markdown",
   "metadata": {},
   "source": [
    "[Second video](https://youtu.be/rhCx4vVJOwc)\n",
    "\n",
    "[Third video](https://youtu.be/7DEYao1bEnE)\n",
    "\n",
    "[Fourth video](https://youtu.be/UCs8HY6-FB0)\n",
    "\n",
    "[Fifth video](https://youtu.be/bw_bGIWQUII)\n",
    "\n",
    "[Sixth video](https://youtu.be/fjR5Y8iuMfI)\n",
    "\n",
    "[Seventh video](https://youtu.be/Wk5hEuBMvQc)\n",
    "\n",
    "[Eigth video](https://youtu.be/7tUR8nHKpXs)\n",
    "\n"
   ]
  },
  {
   "cell_type": "markdown",
   "metadata": {},
   "source": [
    "**Notes -**\n",
    "\n",
    "1. The final algorithm starts with an assumption that \"pivot p is good\" and in the end, it is able to solve the problem in `O(n)` time. This proves that the assumption was correct.\n",
    "2. In step 2 shown in the video, even if we consider that it takes `O(k)` time for finding the median of a group (of size 5 elements), the overall algorithm will have an `O(n)` time complexity in the worst case."
   ]
  }
 ],
 "metadata": {
  "language_info": {
   "name": "python"
  },
  "orig_nbformat": 4
 },
 "nbformat": 4,
 "nbformat_minor": 2
}
