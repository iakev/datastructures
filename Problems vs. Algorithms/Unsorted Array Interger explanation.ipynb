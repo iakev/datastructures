{
 "cells": [
  {
   "cell_type": "markdown",
   "metadata": {},
   "source": [
    "## Problem Statement\n",
    "Find the minimum and maximum elements in an unsorted array,without sorting and ensure time complexity is `O(n)`.\n",
    "\n",
    "### Design Considerations\n",
    "Using divide and conquer technique specifically *fastselect* for any kth element in the array we can achieve the specified complexity. This is helped by calling *fastselect* for the smallest and again for the largest element.\n",
    "\n",
    "### Space and Time complexity\n",
    "\n",
    "Time complexity will be `O(n)`. Since for any fast select we have `O(n)` time complexity and `O(n)` + `O(n)` = `O(n)`.\n",
    "\n",
    "Space complexity will also be `O(n)`. Since I use a dictionary to store lists of length $\\frac{n}{5}$ which add upto to size `n`. Also the three arrays around the pivot also add up to `n`. Hence, `O(n) + O(n) + O(n)` = `O(n)`."
   ]
  }
 ],
 "metadata": {
  "language_info": {
   "name": "python"
  },
  "orig_nbformat": 4
 },
 "nbformat": 4,
 "nbformat_minor": 2
}
