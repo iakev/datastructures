{
 "cells": [
  {
   "cell_type": "code",
   "execution_count": 1,
   "metadata": {},
   "outputs": [],
   "source": [
    "# this code makes the tree that we'll traverse\n",
    "\n",
    "class Node(object):\n",
    "        \n",
    "    def __init__(self,value = None):\n",
    "        self.value = value\n",
    "        self.left = None\n",
    "        self.right = None\n",
    "        \n",
    "    def set_value(self,value):\n",
    "        self.value = value\n",
    "        \n",
    "    def get_value(self):\n",
    "        return self.value\n",
    "        \n",
    "    def set_left_child(self,left):\n",
    "        self.left = left\n",
    "        \n",
    "    def set_right_child(self, right):\n",
    "        self.right = right\n",
    "        \n",
    "    def get_left_child(self):\n",
    "        return self.left\n",
    "    \n",
    "    def get_right_child(self):\n",
    "        return self.right\n",
    "\n",
    "    def has_left_child(self):\n",
    "        return self.left != None\n",
    "    \n",
    "    def has_right_child(self):\n",
    "        return self.right != None\n",
    "    \n",
    "    # define __repr_ to decide what a print statement displays for a Node object\n",
    "    def __repr__(self):\n",
    "        return f\"Node({self.get_value()})\"\n",
    "    \n",
    "    def __str__(self):\n",
    "        return f\"Node({self.get_value()})\"\n",
    "    \n",
    "    \n",
    "class Tree():\n",
    "    def __init__(self, value=None):\n",
    "        self.root = Node(value)\n",
    "        \n",
    "    def get_root(self):\n",
    "        return self.root"
   ]
  },
  {
   "cell_type": "code",
   "execution_count": 2,
   "metadata": {},
   "outputs": [],
   "source": [
    "# create a tree and add some nodes\n",
    "tree = Tree(\"apple\")\n",
    "tree.get_root().set_left_child(Node(\"banana\"))\n",
    "tree.get_root().set_right_child(Node(\"cherry\"))\n",
    "tree.get_root().get_left_child().set_left_child(Node(\"dates\"))"
   ]
  },
  {
   "cell_type": "markdown",
   "metadata": {},
   "source": [
    "## Task: do in-order traversal\n",
    "\n",
    "We want to traverse the left subtree, then visit the node, and then traverse the right subtree.\n",
    "\n",
    "**hint**: it's very similar in structure to the pre-order traversal."
   ]
  },
  {
   "cell_type": "code",
   "execution_count": 12,
   "metadata": {},
   "outputs": [],
   "source": [
    "def in_order(tree):\n",
    "    visit_order = list()\n",
    "    root = tree.get_root()\n",
    "    \n",
    "    def traverse(node):\n",
    "        if node:\n",
    "            #traverse left\n",
    "            traverse(node.get_left_child())\n",
    "\n",
    "            # visit node\n",
    "            visit_order.append(node.value)\n",
    "            \n",
    "            #traverse right\n",
    "            traverse(node.get_right_child())\n",
    "\n",
    "    traverse(root)\n",
    "\n",
    "    return visit_order"
   ]
  },
  {
   "cell_type": "code",
   "execution_count": 13,
   "metadata": {},
   "outputs": [
    {
     "data": {
      "text/plain": [
       "['dates', 'banana', 'apple', 'cherry']"
      ]
     },
     "execution_count": 13,
     "metadata": {},
     "output_type": "execute_result"
    }
   ],
   "source": [
    "in_order(tree)\n"
   ]
  },
  {
   "cell_type": "markdown",
   "metadata": {},
   "source": [
    "## Task: post-order traversal\n",
    "\n",
    "Traverse left subtree, then right subtree, and then visit the node.\n"
   ]
  },
  {
   "cell_type": "code",
   "execution_count": 18,
   "metadata": {},
   "outputs": [],
   "source": [
    "def post_order(tree):\n",
    "    visit_order = list()\n",
    "    root = tree.get_root()\n",
    "\n",
    "    def traverse(node):\n",
    "        if node:\n",
    "            #traverse left\n",
    "            traverse(node.get_left_child())\n",
    "            #traverse right\n",
    "            traverse(node.get_right_child())\n",
    "            #visit node\n",
    "            visit_order.append(node.value)\n",
    "\n",
    "    traverse(root)\n",
    "\n",
    "    return visit_order"
   ]
  },
  {
   "cell_type": "code",
   "execution_count": 19,
   "metadata": {},
   "outputs": [
    {
     "data": {
      "text/plain": [
       "['dates', 'banana', 'cherry', 'apple']"
      ]
     },
     "execution_count": 19,
     "metadata": {},
     "output_type": "execute_result"
    }
   ],
   "source": [
    "post_order(tree)"
   ]
  },
  {
   "cell_type": "code",
   "execution_count": null,
   "metadata": {},
   "outputs": [],
   "source": []
  }
 ],
 "metadata": {
  "interpreter": {
   "hash": "edd1d3549cf072e5f1c96c28c5126be4dddecf6bd9bc18231197754c991085f8"
  },
  "kernelspec": {
   "display_name": "Python 3.10.0 64-bit ('datastructures': conda)",
   "language": "python",
   "name": "python3"
  },
  "language_info": {
   "codemirror_mode": {
    "name": "ipython",
    "version": 3
   },
   "file_extension": ".py",
   "mimetype": "text/x-python",
   "name": "python",
   "nbconvert_exporter": "python",
   "pygments_lexer": "ipython3",
   "version": "3.10.0"
  },
  "orig_nbformat": 4
 },
 "nbformat": 4,
 "nbformat_minor": 2
}
