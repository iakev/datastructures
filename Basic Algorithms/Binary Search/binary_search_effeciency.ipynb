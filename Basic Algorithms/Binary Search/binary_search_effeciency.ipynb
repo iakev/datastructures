{
 "cells": [
  {
   "cell_type": "markdown",
   "metadata": {},
   "source": [
    "## Time complexity of binary search\n",
    "We can approximate the efficiency of binary search by answering this question: *How many steps do we have to take in the worst-case scenario?*\n",
    "\n",
    "At each step, we check the middle element—and then we can rule out about half of the numbers (discarding everything to either the left or right). So if we start with nn numbers, then after the first step we will have half that many, or $\\frac{n}{2}$ left that we still need to check.\n",
    "\n",
    "**Note:** It won't always be *exactly* half the numbers that get discarded. If you have an even number of elements, you will have to check either the lower or higher of the middle two elements—and this means you'll rule out either half of the array, $\\frac{n}{2}$ , or one more than half the array, $\\frac{n}{2}+1$. But when we calculate time complexity using big $O$ notation, we tend to ignore such small details, because they have negligible impact on the efficiency. Usually, we are concerned with large input sizes—on the order of, say, ${10^5}$. Imagine an array of size ${10^5}$! It doesn’t really matter if each step rules out exactly half of the array, $\\frac{10^5}{2}$ or slightly more than half of the array, $\\frac{10^5}{2}+1$ So to keep things simple here, we will ignore the $+1$.\n",
    "\n",
    "**Note:** To know the effeciency of an algorithm developers:\n",
    "- Memorize the effeciency of basic algorithms e.g. Binary search has $O(log n)$.\n",
    "- Use proofs to show the effeciency. (A bit too mathematical and not easy requiring further research).\n",
    "- Use a results table to quickly identify patterns that lead one to identify the effeciency of the algorithm.\n",
    "\n",
    "Here's what we do at each step:\n",
    "- In the first step, we discard half of the numbers—that is, $\\frac{n}{2}$  numbers. So, the total number of remaining integers is also half, or $\\frac{n}{2}$.\n",
    "- In the second step, we discard half of the numbers that were left with us from the first step. We had $\\frac{n}{2}$ integers, so we discard half of these numbers and hence are left with $\\frac{n}{4}$ integers.\n",
    "- Similarly, in the next step we again discard half of the numbers that were left in the last step. Thus, we are now left with $\\frac{n}{8}$ integers.\n",
    "- We'll continue this process until, in the final step, we will have only one integer left. We will compare with this integer and check whether this is our target.\n",
    "\n",
    "From the above process we can conclude that the emerging pattern is:\n",
    "- $n,\\frac{n}{2},\\frac{n}{4},\\frac{n}{8},\\frac{n}{16},\\frac{n}{32},\\frac{n}{64},...,2,1$\n",
    "\n",
    "*Notice this is akin to repeatedly multiplying by $\\frac{1}{2}$ at each succesive iteration.*\n"
   ]
  },
  {
   "cell_type": "markdown",
   "metadata": {},
   "source": [
    "Therefore with an array of size 8, then:\n",
    "| STEPS  | REMAINING ELEMENTS TO SEARCH |\n",
    "| --- | --- |\n",
    "| Before any step (original array size) |  8 |\n",
    "| After 1st step |  $8 * \\frac{1}{2} = 4$   |\n",
    "| After 2nd step |  $4 * \\frac{1}{2} = 2$   |\n",
    "| After 3rd step |  $2 * \\frac{1}{2} = 1$   |    \n",
    "\n",
    "\n",
    "The above steps could b e simplified as $8 * \\frac{1}{2} * \\frac{1}{2} * \\frac{1}{2} = 1$, which can be written in exponent terms as $8 * {\\frac{1}{2}}^3 = 1$.\n",
    "\n",
    "Coming up with a generalized model from the above equation we let `s` be the numer of steps and `n` be the size of array.\n",
    "Therefore we can write:\n",
    "- $n * {\\frac{1}{2}}^s = 1$\n",
    "\n",
    "Now we can solve for the above model algebraically so as to calculate `s`:\n",
    "\n",
    "- $n * {\\frac{1}{2}}^s = 1$\n",
    "- $n * 2 ^ {-s} = 1$\n",
    "- $n = \\frac{1}{2 ^ {-s}}$\n",
    "- $n = 2 ^ {s}$\n",
    "- $ \\log_2 n = \\log_2 (2 ^ {s})$\n",
    "- $ \\log_2 n = s $\n",
    "\n"
   ]
  },
  {
   "cell_type": "markdown",
   "metadata": {},
   "source": [
    "As from above the number of steps to run the algorithm is $s = \\log_2n$. Hence the time complexity could be expressed as;\n",
    "$O(\\log_2(n))$"
   ]
  },
  {
   "cell_type": "markdown",
   "metadata": {},
   "source": [
    "Looking at effecincy map below: <br><br>\n",
    "\n",
    "<img src=\"images/00-all-comparison-computational-complexity.svg\" width= 700, height = 500/>\n",
    "\n",
    "\n",
    "We can clearly see that $O(\\log_2(n))$ is a good effeciency only second to $O(1)$ in terns of perfomance."
   ]
  }
 ],
 "metadata": {
  "language_info": {
   "name": "python"
  },
  "orig_nbformat": 4
 },
 "nbformat": 4,
 "nbformat_minor": 2
}
