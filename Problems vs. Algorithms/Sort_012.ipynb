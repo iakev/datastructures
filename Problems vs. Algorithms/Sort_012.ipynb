{
 "cells": [
  {
   "cell_type": "markdown",
   "metadata": {},
   "source": [
    "## Dutch National Flag Problem\n",
    "Given an input array consisting on only 0, 1, and 2, sort the array in a single traversal. You're not allowed to use any sorting function that Python provides.\n",
    "\n",
    "Note: `O(n)` does not necessarily mean single-traversal. For e.g. if you traverse the array twice, that would still be an `O(n)` solution but it will not count as single traversal.\n",
    "\n",
    "Here is some boilerplate code and test cases to start with:"
   ]
  },
  {
   "cell_type": "code",
   "execution_count": 5,
   "metadata": {},
   "outputs": [
    {
     "name": "stdout",
     "output_type": "stream",
     "text": [
      "[0, 0, 0, 1, 1, 1, 2, 2, 2, 2, 2]\n",
      "Pass\n",
      "[0, 0, 0, 0, 0, 0, 0, 0, 0, 0, 0, 1, 1, 1, 1, 1, 1, 2, 2, 2, 2, 2, 2, 2, 2, 2]\n",
      "Pass\n",
      "[0, 0, 0, 0, 0, 0, 1, 1, 1, 1, 1, 1, 2, 2, 2, 2, 2, 2, 2]\n",
      "Pass\n"
     ]
    }
   ],
   "source": [
    "def sort_012(input_list):\n",
    "    \"\"\"\n",
    "    Given an input array consisting on only 0, 1, and 2, sort the array in a single traversal.\n",
    "\n",
    "    Args:\n",
    "       input_list(list): List to be sorted\n",
    "    \"\"\"\n",
    "    next_pointer_0 = 0\n",
    "    next_pointer_2 = len(input_list) -1\n",
    "\n",
    "    front_index = 0\n",
    "\n",
    "    while front_index <= next_pointer_2:\n",
    "\n",
    "        if input_list[front_index] == 0:\n",
    "            input_list[front_index] = input_list[next_pointer_0]\n",
    "            input_list[next_pointer_0] = 0\n",
    "            next_pointer_0 += 1\n",
    "            front_index += 1\n",
    "\n",
    "        elif input_list[front_index] == 2:\n",
    "            input_list[front_index] = input_list[next_pointer_2]\n",
    "            input_list[next_pointer_2] = 2\n",
    "            next_pointer_2 -= 1\n",
    "\n",
    "        else:\n",
    "            front_index += 1\n",
    "\n",
    "    return input_list\n",
    "\n",
    "def test_function(test_case):\n",
    "    sorted_array = sort_012(test_case)\n",
    "    print(sorted_array)\n",
    "    if sorted_array == sorted(test_case):\n",
    "        print(\"Pass\")\n",
    "    else:\n",
    "        print(\"Fail\")\n",
    "\n",
    "test_function([0, 0, 2, 2, 2, 1, 1, 1, 2, 0, 2])\n",
    "test_function([2, 1, 2, 0, 0, 2, 1, 0, 1, 0, 0, 2, 2, 2, 1, 2, 0, 0, 0, 2, 1, 0, 2, 0, 0, 1])\n",
    "test_function([0, 0, 0, 0, 0, 0, 1, 1, 1, 1, 1, 1, 2, 2, 2, 2, 2, 2, 2])"
   ]
  }
 ],
 "metadata": {
  "interpreter": {
   "hash": "edd1d3549cf072e5f1c96c28c5126be4dddecf6bd9bc18231197754c991085f8"
  },
  "kernelspec": {
   "display_name": "Python 3.10.0 ('datastructures')",
   "language": "python",
   "name": "python3"
  },
  "language_info": {
   "codemirror_mode": {
    "name": "ipython",
    "version": 3
   },
   "file_extension": ".py",
   "mimetype": "text/x-python",
   "name": "python",
   "nbconvert_exporter": "python",
   "pygments_lexer": "ipython3",
   "version": "3.10.0"
  },
  "orig_nbformat": 4
 },
 "nbformat": 4,
 "nbformat_minor": 2
}
