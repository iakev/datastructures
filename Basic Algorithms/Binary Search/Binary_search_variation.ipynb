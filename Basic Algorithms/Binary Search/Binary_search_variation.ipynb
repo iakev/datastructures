{
 "cells": [
  {
   "cell_type": "markdown",
   "metadata": {},
   "source": [
    "# Variations on Binary Search\n",
    "\n",
    "Now that you've gone through the work of building a binary search function, let's take some time to try out a few exercises that are variations (or extensions) of binary search. We'll provide the function for you to start:"
   ]
  },
  {
   "cell_type": "code",
   "execution_count": 1,
   "metadata": {},
   "outputs": [],
   "source": [
    "def recursive_binary_search(target, source, left=0):\n",
    "    if len(source) == 0:\n",
    "        return None\n",
    "    center = (len(source)-1) // 2\n",
    "    if source[center] == target:\n",
    "        return center + left\n",
    "    elif source[center] < target:\n",
    "        return recursive_binary_search(target, source[center+1:], left+center+1)\n",
    "    else:\n",
    "        return recursive_binary_search(target, source[:center], left)"
   ]
  },
  {
   "cell_type": "markdown",
   "metadata": {},
   "source": [
    "## Find First\n",
    "The binary search function is guaranteed to return _an_ index for the element you're looking for in an array, but what if the element appears more than once?\n",
    "\n",
    "Consider this array:\n",
    "\n",
    "`[1, 3, 5, 7, 7, 7, 8, 11, 12]`\n",
    "\n",
    "Let's find the number 7:"
   ]
  },
  {
   "cell_type": "code",
   "execution_count": 2,
   "metadata": {},
   "outputs": [
    {
     "data": {
      "text/plain": [
       "4"
      ]
     },
     "execution_count": 2,
     "metadata": {},
     "output_type": "execute_result"
    }
   ],
   "source": [
    "multiple = [1, 3, 5, 7, 7, 7, 8, 11, 12]\n",
    "recursive_binary_search(7, multiple)"
   ]
  },
  {
   "cell_type": "markdown",
   "metadata": {},
   "source": [
    "### Hmmm...\n",
    "\n",
    "Looks like we got the index 4, which is correct, but what if we wanted to find the first occurrence of an element, rather than just any occurrence?\n",
    "\n",
    "Write a new function: `find_first()` that uses binary_search as a starting point.\n",
    "\n",
    "  - *Hint:* no need to modify binary_search() at all."
   ]
  },
  {
   "cell_type": "code",
   "execution_count": 11,
   "metadata": {},
   "outputs": [
    {
     "name": "stdout",
     "output_type": "stream",
     "text": [
      "3\n",
      "None\n",
      "5\n",
      "None\n",
      "0\n",
      "9\n"
     ]
    }
   ],
   "source": [
    "def find_first(target, source):\n",
    "    pre_index = recursive_binary_search(target,source)\n",
    "    while target in source[:pre_index]:\n",
    "        pre_index = recursive_binary_search(target,source[:pre_index])\n",
    "\n",
    "    return pre_index\n",
    "        \n",
    "multiple = [1, 3, 5, 7, 7, 7, 8, 11, 12, 13, 14, 15]\n",
    "print(find_first(7, multiple)) # Should return 3\n",
    "print(find_first(9, multiple)) # Should return None\n",
    "\n",
    "\n",
    "## Add your own tests to verify that your code works!\n",
    "# test 2\n",
    "multiple = [0,1,2,3,4,5,6,7,8,9]\n",
    "print(find_first(5,multiple)) # Should return 5\n",
    "print(find_first(10,multiple)) # Should return None\n",
    "\n",
    "#test 3\n",
    "multiple = [1,1,1,1,2,3,4,5,6,7]\n",
    "print(find_first(1,multiple)) # Should return 0\n",
    "print(find_first(7,multiple)) # Should return 9\n",
    "\n",
    "############################# UDACITY SOLUTION ############################################################\n",
    "# def find_first(target, source):\n",
    "#     index = recursive_binary_search(target, source)\n",
    "#     if not index:\n",
    "#         return None\n",
    "#     while source[index] == target:\n",
    "#         if index == 0:\n",
    "#             return 0\n",
    "#         if source[index-1] == target:\n",
    "#             index -= 1\n",
    "#         else:\n",
    "#             return index\n"
   ]
  },
  {
   "cell_type": "markdown",
   "metadata": {},
   "source": [
    "## Contains\n",
    "The second variation is a function that returns a boolean value indicating whether an element is present, but with no information about the location of that element.\n",
    "\n",
    "For example:\n",
    "\n",
    "```python\n",
    "letters = ['a', 'c', 'd', 'f', 'g']\n",
    "print(contains('a', letters)) ## True\n",
    "print(contains('b', letters)) ## False\n",
    "```\n",
    "\n",
    "There are a few different ways to approach this, so try it out, and we'll share two solutions after."
   ]
  },
  {
   "cell_type": "code",
   "execution_count": 14,
   "metadata": {},
   "outputs": [
    {
     "name": "stdout",
     "output_type": "stream",
     "text": [
      "True\n",
      "False\n"
     ]
    }
   ],
   "source": [
    "def contains(target, source):\n",
    "    index = recursive_binary_search(target,source)\n",
    "    if index != None:\n",
    "        return True\n",
    "    return False\n",
    "\n",
    "letters = ['a', 'c', 'd', 'f', 'g']\n",
    "print(contains('a', letters)) ## True\n",
    "print(contains('b', letters)) ## False"
   ]
  },
  {
   "cell_type": "markdown",
   "metadata": {},
   "source": [
    "## Spoiler - Udacity Solution below:\n",
    "\n",
    "Here are two solutions we came up with:\n",
    "\n",
    "One option is just to wrap binary search:\n",
    "\n",
    "```python\n",
    "def contains(target, source):\n",
    "    return recursive_binary_search(target, source) is not None\n",
    "```\n",
    "\n",
    "Another choice is to build a simpler binary search directly into the function:\n",
    "\n",
    "```python\n",
    "def contains(target, source):\n",
    "    # Since we don't need to keep track of the index, we can remove the `left` parameter.\n",
    "    if len(source) == 0:\n",
    "        return False\n",
    "    center = (len(source)-1) // 2\n",
    "    if source[center] == target:\n",
    "        return True\n",
    "    elif source[center] < target:\n",
    "        return contains(target, source[center+1:])\n",
    "    else:\n",
    "        return contains(target, source[:center])\n",
    "```"
   ]
  }
 ],
 "metadata": {
  "interpreter": {
   "hash": "edd1d3549cf072e5f1c96c28c5126be4dddecf6bd9bc18231197754c991085f8"
  },
  "kernelspec": {
   "display_name": "Python 3.10.0 ('datastructures')",
   "language": "python",
   "name": "python3"
  },
  "language_info": {
   "codemirror_mode": {
    "name": "ipython",
    "version": 3
   },
   "file_extension": ".py",
   "mimetype": "text/x-python",
   "name": "python",
   "nbconvert_exporter": "python",
   "pygments_lexer": "ipython3",
   "version": "3.10.0"
  },
  "orig_nbformat": 4
 },
 "nbformat": 4,
 "nbformat_minor": 2
}
