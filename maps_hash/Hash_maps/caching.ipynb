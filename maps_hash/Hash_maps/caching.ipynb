{
 "cells": [
  {
   "cell_type": "markdown",
   "metadata": {},
   "source": [
    "## What is Caching?\n",
    "Caching is the process of storing data in a temporary data storage to avoid recomputation or avoid reading data from  a slower part of memory again and again. Hence caching serves as a fast-look up storage to allow a program execute faster.\n",
    "\n",
    "*Lets use caching to chalk out an effective solution for a **problem in the Recursion lesson.***"
   ]
  },
  {
   "cell_type": "markdown",
   "metadata": {},
   "source": [
    "### Problem Statement\n",
    "A child is running up a staircase and can hop either 1 step, 2 steps or 3 steps at a time. Given that the staircase has a total n steps, write a function to count the number of possible ways in which child can run up the stairs.\n",
    "\n",
    "For e.g.\n",
    "\n",
    "* `n == 1` then `answer=1`\n",
    "* `n == 3` then `answer=4`<br>\n",
    "  The output is `4` because there are four ways to climb the staircase:\n",
    "    - 1 step + 1 step + 1 step\n",
    "    - 1 step + 2 steps\n",
    "    - 2 steps + 1 step\n",
    "    - 3 steps\n",
    "\n",
    "* `n == 5` then `answer=13`\n",
    "\n",
    "**Hint**<br>\n",
    "You would need to make use of the [Inductive Hypothesis](https://en.wikipedia.org/wiki/Mathematical_induction#Description), which comprises of the following two steps:\n",
    "1. **The Inductive Hypothesis**: Calculate/assume the results for base case. In our problem scenario, the base cases would be when n = 1, 2, and 3. \n",
    "\n",
    "\n",
    "2. **The Inductive Step**: Prove that for every $n >= 3$, if the results are true for $n$ , then it holds for $(n+1)$ as well. In other words, assume that the statement holds for some arbitrary natural number $n$ , and prove that the statement holds for $(n+1)$.\n"
   ]
  },
  {
   "cell_type": "code",
   "execution_count": 1,
   "metadata": {},
   "outputs": [],
   "source": [
    "def staircase(n):\n",
    "    # Base Case - What holds true for minimum steps possible i.e., n == 1? Return the number of ways the child can climb one step.\n",
    "    if n == 1:\n",
    "        return 1\n",
    "    # Inductive Hypothesis - What holds true for n == 2 or n == 3? Return the number of ways to climb them.\n",
    "    elif n == 2:\n",
    "        return 2\n",
    "    elif n == 3:\n",
    "        return 4\n",
    "    # Inductive Step (n > 3) - use Inductive Hypothesis to formulate a solution\n",
    "    return staircase(n-1) + staircase(n-2) + staircase(n-3)\n",
    "\n",
    "    "
   ]
  },
  {
   "cell_type": "markdown",
   "metadata": {},
   "source": [
    "### Problem Statement - (Caching)\n",
    "\n",
    "While using recursion for the above problem, you might have noticed a small problem with efficiency.\n",
    "\n",
    "Let's take a look at an example.\n",
    "\n",
    "* Say the total number of steps are `5`. This means that we will have to call at `(n=4), (n=3), and (n=2)`\n",
    "\n",
    "* To calculate the answer for `n=4`, we would have to call `(n=3), (n=2) and (n=1)`\n",
    "\n",
    "You can notice that even for a small number of staircases (here 5), we are calling `n=3` and `n=2` multiple times. Each time we call a method, additional time is required to calculate the solution. In contrast, instead of calling on a particular value of `n` again and again, we can **calculate it once and store the result** to speed up our program.\n",
    "\n",
    ">Which data structure are you thinking to store the results?\n",
    "\n",
    "Your job is to use any data-structure that you have used until now to write a faster implementation of the function you wrote earlier while using recursion. "
   ]
  },
  {
   "cell_type": "code",
   "execution_count": 29,
   "metadata": {},
   "outputs": [],
   "source": [
    "def staircase(n):\n",
    "    #data structure to store the results temporarily is a dictionary with the n being the key \n",
    "    cache = dict()\n",
    "    return recursive_staircase(n,cache)\n",
    "\n",
    "def recursive_staircase(n,cache):\n",
    "    # Base Case - What holds true for minimum steps possible i.e., n == 1? Return the number of ways the child can climb one step.\n",
    "    if n == 1:\n",
    "        steps = 1\n",
    "    # Inductive Hypothesis - What holds true for n == 2 or n == 3? Return the number of ways to climb them.\n",
    "    elif n == 2:\n",
    "        steps = 2\n",
    "    elif n == 3:\n",
    "        steps = 4\n",
    "    # Inductive Step (n > 3) - use Inductive Hypothesis to formulate a solution\n",
    "    else:\n",
    "        if (n-1) in cache.keys():\n",
    "            step1 = cache[n-1]\n",
    "        else:\n",
    "            step1 = recursive_staircase(n-1,cache)\n",
    "            cache[n-1] = step1\n",
    "        if (n-2) in cache.keys():\n",
    "            step2 = cache[n-2]\n",
    "        else:\n",
    "            step2 = recursive_staircase(n-2,cache)\n",
    "            cache[n-2] = step2\n",
    "        if (n-3) in cache.keys():\n",
    "            step3 = cache[n-3]\n",
    "        else:\n",
    "            step3 = recursive_staircase(n-3,cache)\n",
    "            cache[n-3] = step3\n",
    "\n",
    "        steps = step1 + step2 + step3\n",
    "    \n",
    "    return steps\n"
   ]
  },
  {
   "cell_type": "code",
   "execution_count": 30,
   "metadata": {},
   "outputs": [],
   "source": [
    "def test_function(test_case):\n",
    "    answer = staircase(test_case[0])\n",
    "    if answer == test_case[1]:\n",
    "        print(\"Pass\")\n",
    "    else:\n",
    "        print(\"Fail\")"
   ]
  },
  {
   "cell_type": "code",
   "execution_count": 31,
   "metadata": {},
   "outputs": [
    {
     "name": "stdout",
     "output_type": "stream",
     "text": [
      "Pass\n"
     ]
    }
   ],
   "source": [
    "test_case = [4, 7]\n",
    "test_function(test_case)"
   ]
  },
  {
   "cell_type": "code",
   "execution_count": 32,
   "metadata": {},
   "outputs": [
    {
     "name": "stdout",
     "output_type": "stream",
     "text": [
      "Pass\n"
     ]
    }
   ],
   "source": [
    "test_case = [5, 13]\n",
    "test_function(test_case)"
   ]
  }
 ],
 "metadata": {
  "interpreter": {
   "hash": "edd1d3549cf072e5f1c96c28c5126be4dddecf6bd9bc18231197754c991085f8"
  },
  "kernelspec": {
   "display_name": "Python 3.10.0 ('datastructures')",
   "language": "python",
   "name": "python3"
  },
  "language_info": {
   "codemirror_mode": {
    "name": "ipython",
    "version": 3
   },
   "file_extension": ".py",
   "mimetype": "text/x-python",
   "name": "python",
   "nbconvert_exporter": "python",
   "pygments_lexer": "ipython3",
   "version": "3.10.0"
  },
  "orig_nbformat": 4
 },
 "nbformat": 4,
 "nbformat_minor": 2
}
