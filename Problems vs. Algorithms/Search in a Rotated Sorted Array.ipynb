{
 "cells": [
  {
   "cell_type": "markdown",
   "metadata": {},
   "source": [
    "## Search in a Rotated Sorted Array\n",
    "You are given a sorted array which is rotated at some random pivot point.\n",
    "\n",
    "Example: `[0,1,2,4,5,6,7]` might become `[4,5,6,7,0,1,2]`\n",
    "\n",
    "You are given a target value to search. If found in the array return its index, otherwise return -1.\n",
    "\n",
    "You can assume there are no duplicates in the array and your algorithm's runtime complexity must be in the order of `O(log n)`.\n",
    "\n",
    "Example:\n",
    "\n",
    "Input: `nums = [4,5,6,7,0,1,2], target = 0, Output: 4`\n",
    "\n",
    "Here is some boilerplate code and test cases to start with:"
   ]
  },
  {
   "cell_type": "code",
   "execution_count": 5,
   "metadata": {},
   "outputs": [],
   "source": [
    "def rotated_array_search(input_list, number):\n",
    "    \"\"\"\n",
    "    Find the index by searching in a rotated sorted array\n",
    "\n",
    "    Args:\n",
    "       input_list(array), number(int): Input array to search and the target\n",
    "    Returns:\n",
    "       int: Index or -1\n",
    "    \"\"\"\n",
    "    if input_list == []:\n",
    "        return -1\n",
    "    \n",
    "    return binary_search(input_list,number,0,len(input_list)-1)\n",
    "    \n",
    "def binary_search(arr,target,start,end):\n",
    "    mid = start + ((end - start) // 2)\n",
    "\n",
    "    # base cases\n",
    "    if arr[mid] == target:\n",
    "        return mid\n",
    "\n",
    "    elif start > end:\n",
    "        return -1\n",
    "\n",
    "    # Taking care of instances immediately before and after mid index\n",
    "    elif arr[mid -1] == target:\n",
    "        return mid - 1\n",
    "\n",
    "    elif (mid + 1) < len(arr)-1 and arr[mid + 1] == target:\n",
    "        return mid + 1\n",
    "\n",
    "    #recursive cases\n",
    "    else:\n",
    "\n",
    "        if arr[mid] >= target and arr[start] <= target:\n",
    "            #we discard the first half and recurse on the other half and vice versa in the else case\n",
    "            end =  mid\n",
    "\n",
    "        else:\n",
    "            #if mid element is just next to a pivot\n",
    "            start = mid + 1\n",
    "            \n",
    "\n",
    "        index = binary_search(arr,target,start,end)\n",
    "\n",
    "    return index\n",
    "\n",
    "def linear_search(input_list, number):\n",
    "    for index, element in enumerate(input_list):\n",
    "        if element == number:\n",
    "            return index\n",
    "    return -1\n",
    "\n"
   ]
  },
  {
   "cell_type": "code",
   "execution_count": 6,
   "metadata": {},
   "outputs": [],
   "source": [
    "def test_function(test_case):\n",
    "    input_list = test_case[0]\n",
    "    number = test_case[1]\n",
    "    # rotated_array_search(input_list, number)\n",
    "    if linear_search(input_list, number) == rotated_array_search(input_list, number):\n",
    "        print(\"Pass\")\n",
    "    else:\n",
    "        print(\"Fail\")\n",
    "\n"
   ]
  },
  {
   "cell_type": "code",
   "execution_count": 7,
   "metadata": {},
   "outputs": [
    {
     "name": "stdout",
     "output_type": "stream",
     "text": [
      "Pass\n",
      "Pass\n",
      "Pass\n",
      "Pass\n",
      "Pass\n",
      "Pass\n"
     ]
    }
   ],
   "source": [
    "test_function([[6, 7, 8, 9, 10, 1, 2, 3, 4], 6])\n",
    "# print pass\n",
    "test_function([[6, 7, 8, 9, 10, 1, 2, 3, 4], 1])\n",
    "# print pass\n",
    "test_function([[6, 7, 8, 1, 2, 3, 4], 8])\n",
    "# print pass\n",
    "test_function([[6, 7, 8, 1, 2, 3, 4], 1])\n",
    "# print pass\n",
    "test_function([[6, 7, 8, 1, 2, 3, 4], 10])\n",
    "# print pass\n",
    "test_function([[], 10])\n",
    "# print pass"
   ]
  },
  {
   "cell_type": "code",
   "execution_count": null,
   "metadata": {},
   "outputs": [],
   "source": []
  }
 ],
 "metadata": {
  "interpreter": {
   "hash": "edd1d3549cf072e5f1c96c28c5126be4dddecf6bd9bc18231197754c991085f8"
  },
  "kernelspec": {
   "display_name": "Python 3.10.0 ('datastructures')",
   "language": "python",
   "name": "python3"
  },
  "language_info": {
   "codemirror_mode": {
    "name": "ipython",
    "version": 3
   },
   "file_extension": ".py",
   "mimetype": "text/x-python",
   "name": "python",
   "nbconvert_exporter": "python",
   "pygments_lexer": "ipython3",
   "version": "3.10.0"
  },
  "orig_nbformat": 4
 },
 "nbformat": 4,
 "nbformat_minor": 2
}
