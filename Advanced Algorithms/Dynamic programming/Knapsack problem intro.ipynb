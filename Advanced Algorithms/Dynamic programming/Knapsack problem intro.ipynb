{
 "cells": [
  {
   "cell_type": "markdown",
   "metadata": {},
   "source": [
    "## Knapsack Problem\n",
    "\n",
    "This is a classic thought experiment in computer science, whereby you have a knapsack with a weight limit. There are a bunch of objects that are denoted by their weight and value. The goal of the problem is to store items with the highest value while not surpassing the stipulated weight limit.\n",
    "\n",
    "This is an example of an optimization problem. When dealing with this kind of problem if you are stuck first thing is to try the most obvious and mostly slow solution. E.g. trying every combination. This is called a *brute-force approach*.\n",
    "\n",
    "For this problem this solution yields a run time of $O(n^2)$. Exponential runtime is very costly for big datasets. A polynomial runtime is much more effecient.\n",
    "\n",
    "See [here](https://youtu.be/-xRKazHGtjU). There are variations to this problem where a fraction of an item can be considered,however for this case it is a 0-1 problem."
   ]
  },
  {
   "cell_type": "markdown",
   "metadata": {},
   "source": [
    "### A smarter approach\n",
    "\n",
    "A better method is to try to find a maximum value of minimum weight item, then adding up the items to the maximum value.\n",
    "Check out this [explanation](https://youtu.be/J7S3CHFBZJA)."
   ]
  },
  {
   "cell_type": "markdown",
   "metadata": {},
   "source": [
    "### Dynamic programming\n",
    "\n",
    "The above described solution has a dynamic programming technique. Dynamic programming enables one to break down a complex problem to less complicated subproblem,solving them then  solving the more complex problem. E.g. here the subproblem becomes **Finding the max value for a smaller weight.**\n",
    "\n",
    "Properties of a dynamic programming solution are :-\n",
    "\n",
    "- Like recursion, dynamic programming normally begins by solving a subproblem so basic that computation is fast and trivial (e.g. a *base case*).\n",
    "- There is normally a look up table to store solutions to sub-problems.\n",
    "- Equation used at each step to find the solution as complexity is added.\n",
    "    - In this equation it is common to use the values already added up and stored in a look up table to quicken computation. This inturn is called **memoization**. This really ups the effeciency.\n",
    "\n",
    "It's important to know problems that can be solved by dynamic programming. E.g a problem requiring every combination to be tested for the solution and in turn can also be broken down into a simpler sub-problem.\n",
    "\n",
    "[Here](https://youtu.be/VQeFcG9pjJU) is more explanation on the same.   \n"
   ]
  }
 ],
 "metadata": {
  "language_info": {
   "name": "python"
  },
  "orig_nbformat": 4
 },
 "nbformat": 4,
 "nbformat_minor": 2
}
