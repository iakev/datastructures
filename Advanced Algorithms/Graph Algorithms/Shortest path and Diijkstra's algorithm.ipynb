{
 "cells": [
  {
   "cell_type": "markdown",
   "metadata": {},
   "source": [
    "## Shortest path\n",
    "Weighted edges graphs have some numeric value assigned to the edges. In these types of graphs the shortest path refers to the path that ends up with the least value when the numeric values between two nodes are added up. For an unweighted graph the shortest path is the one with the fewest number of edges. \n",
    "\n",
    "The solution to this problem naturally depends on the type of graph. For example for an unweighted graph the solution is a Breadth Search First implementation. Check out [this](https://youtu.be/huKUM97Vve8)."
   ]
  },
  {
   "cell_type": "markdown",
   "metadata": {},
   "source": [
    "## Diijkstra's Algorithm\n",
    "Diijkstra's algorithm can be used to solve the shortest path for a weighted undirectional graph. This is achieced by utilizing a *min-priority queue*. So to do this All nodes are initialized with a infinity distance value. The start node has a zero value. So starting at start node we check all vertices and their respective distaces updating the distance in case a minimal value is encountered. At any one time the value with the shortest distance from the *min-priority queue* is accepted. Hence why this algorithm is a **greedy** type of algorithm. For further explanation see [this](https://youtu.be/SoPMK03cOgk)."
   ]
  },
  {
   "cell_type": "markdown",
   "metadata": {},
   "source": []
  }
 ],
 "metadata": {
  "language_info": {
   "name": "python"
  },
  "orig_nbformat": 4
 },
 "nbformat": 4,
 "nbformat_minor": 2
}
