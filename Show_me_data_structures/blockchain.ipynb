{
 "cells": [
  {
   "cell_type": "markdown",
   "metadata": {},
   "source": [
    "A [Blockchain](https://en.wikipedia.org/wiki/Blockchain) is a sequential chain of records, similar to a linked list. Each block contains some information and how it is connected related to other blocks in the chain. Each block contains a cryptograpghic hash of the previous block, a timestamp and a transaction data. For our blockchain we will be using a [SHA-256](https://en.wikipedia.org/wiki/SHA-2) hash, the [Greenwich Mean Time](https://en.wikipedia.org/wiki/Greenwich_Mean_Time) when the block was created, and text strings as the data.\n",
    "\n",
    "Using our knowledge of linked-lists and haashing we will create a blockchain implementation.\n",
    "\n",
    "<img src=\"images/blockchain.png\">\n",
    "\n",
    "We can breakdown the blockchain down into 3 main parts.\n",
    "\n",
    "First is the information hash:"
   ]
  },
  {
   "cell_type": "code",
   "execution_count": 1,
   "metadata": {},
   "outputs": [],
   "source": [
    "import hashlib\n",
    "\n",
    "def calc_hash():\n",
    "    sha = hashlib.sha256()\n",
    "\n",
    "    hash_str = \"We are going to encode this string of data\".encode('utf-8')\n",
    "\n",
    "    sha.update(hash_str)\n",
    "\n",
    "    return sha.hexdigest()"
   ]
  },
  {
   "cell_type": "code",
   "execution_count": 2,
   "metadata": {},
   "outputs": [
    {
     "data": {
      "text/plain": [
       "'3314c1d1fbd052f27471b2a17c1a16fcf4f16a9b16818f55aa785d90e3cfba0a'"
      ]
     },
     "execution_count": 2,
     "metadata": {},
     "output_type": "execute_result"
    }
   ],
   "source": [
    "calc_hash()"
   ]
  },
  {
   "cell_type": "markdown",
   "metadata": {},
   "source": [
    "We do this for the information we want to store in the block chain such as transaction time,data,and information like the previous chain\n",
    "\n",
    "The next main component is the block on the blockchain:"
   ]
  },
  {
   "cell_type": "code",
   "execution_count": 7,
   "metadata": {},
   "outputs": [],
   "source": [
    "import hashlib\n",
    "from datetime import datetime,timezone\n",
    "import random\n",
    "import string\n",
    "\n",
    "def generate_random_string():\n",
    "    size = 40\n",
    "    allowed_chars = string.ascii_letters + string.punctuation\n",
    "    return ''.join(random.choice(allowed_chars) for x in range(size))  \n",
    "\n",
    "\n",
    "class Block:\n",
    "\n",
    "    def __init__(self,data,previous_hash=0):\n",
    "        self.timestamp = datetime.now(timezone.utc) #automatically create timestamp upon  block creation\n",
    "        self.data = data # automatically generate text data from english letters and punctuation\n",
    "        self.previous_hash = previous_hash\n",
    "        self.hash = self.calc_hash()\n",
    "\n",
    "\n",
    "    def calc_hash(self):\n",
    "        sha = hashlib.sha256()\n",
    "\n",
    "        hash_str = self.data.encode('utf-8')\n",
    "\n",
    "        sha.update(hash_str)\n",
    "        \n",
    "        sha.update(str(self.timestamp).encode('utf-8'))\n",
    "\n",
    "        sha.update(str(self.previous_hash).encode('utf-8'))\n",
    "\n",
    "        return sha.hexdigest()\n",
    "\n",
    "    # to be implemented\n",
    "    def get_block(self,hash):\n",
    "        if hash == self.hash:\n",
    "            return self\n",
    "\n",
    "     \n",
    "\n",
    "class BlockChain:\n",
    "\n",
    "    def __init__(self):\n",
    "        self.head = None\n",
    "        self.num_blocks = 0\n",
    "        self.tail = None  \n",
    "\n",
    "    def appendblock(self,data):\n",
    "        if self.head == None: #reference to start of chain\n",
    "            self.head = Block(data)\n",
    "            self.num_blocks += 1\n",
    "            self.tail = self.head #reference to end of chain\n",
    "        else:\n",
    "            new_block = Block(data,previous_hash=self.tail.hash)\n",
    "            self.num_blocks += 1\n",
    "            self.tail = new_block\n",
    "\n",
    "\n",
    "    def __str__(self):\n",
    "        outstr = \"\"\n",
    "        block = self.tail\n",
    "        while block.previous_hash != 0: #not first block\n",
    "            outstr += str(block.timestamp)\n",
    "            outstr += \"\\n------------------\\n\"\n",
    "            outstr += block.data\n",
    "            outstr += \"\\n------------------\\n\"\n",
    "            outstr += str(block.hash)\n",
    "            outstr += \"\\n------------------\\n\"\n",
    "            outstr += str(block.previous_hash)\n",
    "            outstr += \"---<=----\"\n",
    "            block = block.get_block(block.previous_hash)\n",
    "\n",
    "        return outstr"
   ]
  },
  {
   "cell_type": "markdown",
   "metadata": {},
   "source": [
    "Above is an example of attributes that can be found in a `Block` class.\n",
    "\n",
    "Finally we need to link all of this together in a block chain, which will be implemented in a linked list. All of this will enable us to build a simple but full blockchain implementation."
   ]
  },
  {
   "cell_type": "code",
   "execution_count": 6,
   "metadata": {},
   "outputs": [
    {
     "ename": "AttributeError",
     "evalue": "'NoneType' object has no attribute 'previous_hash'",
     "output_type": "error",
     "traceback": [
      "\u001b[0;31m---------------------------------------------------------------------------\u001b[0m",
      "\u001b[0;31mAttributeError\u001b[0m                            Traceback (most recent call last)",
      "\u001b[0;32m/tmp/ipykernel_3310/4265753880.py\u001b[0m in \u001b[0;36m<module>\u001b[0;34m\u001b[0m\n\u001b[1;32m      4\u001b[0m \u001b[0mchain\u001b[0m\u001b[0;34m.\u001b[0m\u001b[0mappendblock\u001b[0m\u001b[0;34m(\u001b[0m\u001b[0mgenerate_random_string\u001b[0m\u001b[0;34m(\u001b[0m\u001b[0;34m)\u001b[0m\u001b[0;34m)\u001b[0m\u001b[0;34m\u001b[0m\u001b[0;34m\u001b[0m\u001b[0m\n\u001b[1;32m      5\u001b[0m \u001b[0mchain\u001b[0m\u001b[0;34m.\u001b[0m\u001b[0mappendblock\u001b[0m\u001b[0;34m(\u001b[0m\u001b[0mgenerate_random_string\u001b[0m\u001b[0;34m(\u001b[0m\u001b[0;34m)\u001b[0m\u001b[0;34m)\u001b[0m\u001b[0;34m\u001b[0m\u001b[0;34m\u001b[0m\u001b[0m\n\u001b[0;32m----> 6\u001b[0;31m \u001b[0mprint\u001b[0m\u001b[0;34m(\u001b[0m\u001b[0mchain\u001b[0m\u001b[0;34m)\u001b[0m\u001b[0;34m\u001b[0m\u001b[0;34m\u001b[0m\u001b[0m\n\u001b[0m",
      "\u001b[0;32m/tmp/ipykernel_3310/2817980918.py\u001b[0m in \u001b[0;36m__str__\u001b[0;34m(self)\u001b[0m\n\u001b[1;32m     59\u001b[0m         \u001b[0moutstr\u001b[0m \u001b[0;34m=\u001b[0m \u001b[0;34m\"\"\u001b[0m\u001b[0;34m\u001b[0m\u001b[0;34m\u001b[0m\u001b[0m\n\u001b[1;32m     60\u001b[0m         \u001b[0mblock\u001b[0m \u001b[0;34m=\u001b[0m \u001b[0mself\u001b[0m\u001b[0;34m.\u001b[0m\u001b[0mtail\u001b[0m\u001b[0;34m\u001b[0m\u001b[0;34m\u001b[0m\u001b[0m\n\u001b[0;32m---> 61\u001b[0;31m         \u001b[0;32mwhile\u001b[0m \u001b[0mblock\u001b[0m\u001b[0;34m.\u001b[0m\u001b[0mprevious_hash\u001b[0m \u001b[0;34m!=\u001b[0m \u001b[0;36m0\u001b[0m\u001b[0;34m:\u001b[0m \u001b[0;31m#not first block\u001b[0m\u001b[0;34m\u001b[0m\u001b[0;34m\u001b[0m\u001b[0m\n\u001b[0m\u001b[1;32m     62\u001b[0m             \u001b[0moutstr\u001b[0m \u001b[0;34m+=\u001b[0m \u001b[0mstr\u001b[0m\u001b[0;34m(\u001b[0m\u001b[0mblock\u001b[0m\u001b[0;34m.\u001b[0m\u001b[0mtimestamp\u001b[0m\u001b[0;34m)\u001b[0m\u001b[0;34m\u001b[0m\u001b[0;34m\u001b[0m\u001b[0m\n\u001b[1;32m     63\u001b[0m             \u001b[0moutstr\u001b[0m \u001b[0;34m+=\u001b[0m \u001b[0;34m\"\\n------------------\\n\"\u001b[0m\u001b[0;34m\u001b[0m\u001b[0;34m\u001b[0m\u001b[0m\n",
      "\u001b[0;31mAttributeError\u001b[0m: 'NoneType' object has no attribute 'previous_hash'"
     ]
    }
   ],
   "source": [
    "#create the block chain\n",
    "chain = BlockChain()\n",
    "chain.appendblock(generate_random_string())\n",
    "chain.appendblock(generate_random_string())\n",
    "chain.appendblock(generate_random_string())\n",
    "print(chain)"
   ]
  }
 ],
 "metadata": {
  "interpreter": {
   "hash": "edd1d3549cf072e5f1c96c28c5126be4dddecf6bd9bc18231197754c991085f8"
  },
  "kernelspec": {
   "display_name": "Python 3.10.0 ('datastructures')",
   "language": "python",
   "name": "python3"
  },
  "language_info": {
   "codemirror_mode": {
    "name": "ipython",
    "version": 3
   },
   "file_extension": ".py",
   "mimetype": "text/x-python",
   "name": "python",
   "nbconvert_exporter": "python",
   "pygments_lexer": "ipython3",
   "version": "3.10.0"
  },
  "orig_nbformat": 4
 },
 "nbformat": 4,
 "nbformat_minor": 2
}
