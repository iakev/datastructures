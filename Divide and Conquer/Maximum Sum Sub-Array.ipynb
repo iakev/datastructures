{
 "cells": [
  {
   "cell_type": "markdown",
   "metadata": {
    "graffitiCellId": "id_7qqfnwv"
   },
   "source": [
    "### Problem Statement\n",
    "You are given an array `arr` having `n` integers. You have to find the maximum sum of contiguous subarray among all the possible subarrays. This problem is commonly called as [Maximum Subarray Problem](https://en.wikipedia.org/wiki/Maximum_subarray_problem). Solve this problem in *O(nlogn)* time, using Divide and Conquer approach. \n",
    "\n",
    "\n",
    "**Example 1**<br>\n",
    "Input: `arr = [-2, 1, -3, 5, 0, 3, 2, -5, 4]`<br>\n",
    "Output: `Maximum Sum = 10` for the  `subarray = [5, 0, 3, 2]`<br>\n",
    "\n",
    "**Example 2**<br>\n",
    "Input: `arr = [-2, -5, 6, -2, -3, 1, 5, -6]`<br>\n",
    "Output: `Maximum Sum = 7`  for the  `subarray = [6, -2, -3, 1, 5]`<br>\n",
    "\n",
    "***As of now, let's not return the subarray itself.***"
   ]
  },
  {
   "cell_type": "markdown",
   "metadata": {
    "graffitiCellId": "id_7dk56pg"
   },
   "source": [
    "---\n",
    "### The Idea\n",
    "Divide the given array into three subarray w.r.t. the middle, say Left, Right, and Cross subarrays. Recurse on the Left part, and Right part untill you reach the base condition, i.e. single element in a subarray. \n",
    "\n",
    "Calculate the **maximum sum** of the Left, Right, and Cross subarrays, say `L`, `R`, and `C` respectively. **Return the maximum of `L`, `R`, and `C`.** \n",
    "\n",
    "\n",
    "#### Logic to Calculate `C`, the Maximum sum of a \"Cross\" Subarray\n",
    "Start from the middle index, and traverse (sum the elements) in the left direction. Keep track of the maximum sum on the left part, say `leftMaxSum`. Similarly, start from the (middle +1) index, and traverse (sum the elements) in the right direction.  Keep track of the maximum sum on the right part, say `rightMaxSum`. Return the `(leftMaxSum + rightMaxSum)`, as `C`. The following example would help you imagine the solution better:\n",
    "\n",
    "\n",
    "<img style=\"float: center;\" src=\"images/DNC.png\">\n",
    "<p style=\"text-align:center;\">The solution is 13.</p>\n",
    "\n",
    "--- \n",
    "### Pseudocode and Time Complexity Analysis\n",
    "`maxSubArrayRecursive(arr, start, stop)`&emsp;&emsp;&emsp;&emsp; <font color=\"red\">*T(n)*</font> <br> \n",
    "&emsp;&emsp;` 1. if (start==stop):`<br>\n",
    "&emsp;&emsp;&emsp;&emsp;&emsp;&emsp;`return arr[start]`<br><br>\n",
    "&emsp;&emsp;` 2. Calculate mid index`&emsp;&emsp;&emsp;&emsp;&emsp;&emsp; <font color=\"red\">*constant*</font> <br><br>\n",
    "&emsp;&emsp;` 3. L = maxSubArrayRecursive(arr, start, mid) `&emsp;&emsp;&emsp;&emsp;&emsp;&emsp; <font color=\"red\">*T($\\frac{n}{2}$)*</font> <br><br>\n",
    "&emsp;&emsp;` 4. R = maxSubArrayRecursive(arr, mid+1, stop) `&emsp;&emsp;&emsp;&emsp;&emsp;&emsp; <font color=\"red\">*T($\\frac{n}{2}$)*</font> <br><br>\n",
    "&emsp;&emsp;` 5. C = maxCrossingSum(arr, start, mid, stop) ` &emsp;&emsp;&emsp;&emsp;&emsp;&emsp; <font color=\"red\">*$\\Theta(n)$*</font> <br><br>\n",
    "&emsp;&emsp;` 6. return max(C, max(L,R)) `&emsp;&emsp;&emsp;&emsp;&emsp;&emsp; <font color=\"red\">*constant*</font> <br>\n",
    "<br>\n",
    "\n",
    "Total time of execution $T(n)$ = $2*T(\\frac{n}{2}) + \\Theta(n) \\equiv O(nlogn)$\n",
    "\n",
    "### Exercise - Write the function definition here. "
   ]
  },
  {
   "cell_type": "code",
   "execution_count": 71,
   "metadata": {
    "graffitiCellId": "id_971xrg4"
   },
   "outputs": [],
   "source": [
    "def maxSubArray(arr):\n",
    "    '''\n",
    "    param: An array `arr`\n",
    "    return: The maximum sum of the contiguous subarray. \n",
    "    No need to return the subarray itself.\n",
    "    '''\n",
    "    sum = maxSubArrayRecursive(arr,0,len(arr)-1)\n",
    "    return sum\n",
    "\n",
    "def maxSubArrayRecursive(arr,start,stop):\n",
    "    if start >= stop:\n",
    "        return arr[start]\n",
    "\n",
    "    mid = start + int((stop - start) / 2)\n",
    "\n",
    "    left = maxSubArrayRecursive(arr,start,mid)\n",
    "\n",
    "    right = maxSubArrayRecursive(arr,mid+1,stop)\n",
    "\n",
    "    cross = maxCrossingSum(arr,start,mid,stop)\n",
    "\n",
    "    return max(cross,max(left,right))\n",
    "\n",
    "def maxCrossingSum(arr, start, mid,  stop):\n",
    "    '''LEFT PHASE - Traverse the Left part starting from mid element'''\n",
    "    leftSum = arr[mid]                                     # Denotes the sum of left part from mid element to the current element\n",
    "    leftMaxSum = arr[mid]                                  # Keep track of maximum sum\n",
    "    \n",
    "    # Traverse in reverse direction from (mid-1) to start \n",
    "    for i in range(mid-1, start-1, -1):                    # The second argument of range is not inclusive. Third argument is the step size.\n",
    "        leftSum = leftSum + arr[i]\n",
    "        if (leftSum > leftMaxSum):                         # Update leftMaxSum\n",
    "            leftMaxSum = leftSum\n",
    "    \n",
    "    '''RIGHT PHASE - Traverse the Right part, starting from (mid+1)'''\n",
    "    rightSum = arr[mid+1]                                  # Denotes the sum of right part from (mid+1) element to the current element\n",
    "    rightMaxSum = arr[mid+1]                               # Keep track of maximum sum\n",
    "    \n",
    "    # Traverse in forward direction from (mid+2) to stop\n",
    "    for j in range(mid+2, stop+1):                         # The second argument of range is not inclusive\n",
    "        rightSum = rightSum + arr[j]\n",
    "        if (rightSum > rightMaxSum):                       # Update rightMaxSum\n",
    "            rightMaxSum = rightSum\n",
    "\n",
    "    '''Both rightMaxSum and lefttMaxSum each would contain value of atleast one element from the arr'''\n",
    "    return (rightMaxSum + leftMaxSum)"
   ]
  },
  {
   "cell_type": "markdown",
   "metadata": {
    "graffitiCellId": "id_v341rpp"
   },
   "source": [
    "### Test - Let's test your function"
   ]
  },
  {
   "cell_type": "code",
   "execution_count": 77,
   "metadata": {
    "graffitiCellId": "id_1wiu9yd"
   },
   "outputs": [
    {
     "name": "stdout",
     "output_type": "stream",
     "text": [
      "Maximum Sum =  13\n"
     ]
    }
   ],
   "source": [
    "# Test your code\n",
    "arr = [-2, 7, -6, 3, 1, -4, 5, 7] \n",
    "print(\"Maximum Sum = \",maxSubArray(arr))     # Outputs 13"
   ]
  },
  {
   "cell_type": "code",
   "execution_count": 73,
   "metadata": {
    "graffitiCellId": "id_8kcxisn"
   },
   "outputs": [
    {
     "name": "stdout",
     "output_type": "stream",
     "text": [
      "Maximum Sum =  6\n"
     ]
    }
   ],
   "source": [
    "# Test your code\n",
    "arr = [-2, 1, -3, 4, -1, 2, 1, -5, 4] \n",
    "print(\"Maximum Sum = \",maxSubArray(arr))     # Outputs 6"
   ]
  },
  {
   "cell_type": "code",
   "execution_count": 74,
   "metadata": {
    "graffitiCellId": "id_53cg7v6"
   },
   "outputs": [
    {
     "name": "stdout",
     "output_type": "stream",
     "text": [
      "Maximum Sum =  15\n"
     ]
    }
   ],
   "source": [
    "# Test your code\n",
    "arr = [-4, 14, -6, 7] \n",
    "print(\"Maximum Sum = \",maxSubArray(arr))     # Outputs 15"
   ]
  },
  {
   "cell_type": "code",
   "execution_count": 75,
   "metadata": {
    "graffitiCellId": "id_876ybhp"
   },
   "outputs": [
    {
     "name": "stdout",
     "output_type": "stream",
     "text": [
      "Maximum Sum =  10\n"
     ]
    }
   ],
   "source": [
    "# Test your code\n",
    "arr = [-2, 1, -3, 5, 0, 3, 2, -5, 4]\n",
    "print(\"Maximum Sum = \",maxSubArray(arr))     # Outputs 10"
   ]
  },
  {
   "cell_type": "code",
   "execution_count": 76,
   "metadata": {
    "graffitiCellId": "id_1fallee"
   },
   "outputs": [
    {
     "name": "stdout",
     "output_type": "stream",
     "text": [
      "Maximum Sum =  7\n"
     ]
    }
   ],
   "source": [
    "# Test your code\n",
    "arr = [-2, -5, 6, -2, -3, 1, 5, -6]\n",
    "print(\"Maximum Sum = \",maxSubArray(arr))     # Outputs 7"
   ]
  },
  {
   "cell_type": "code",
   "execution_count": null,
   "metadata": {},
   "outputs": [],
   "source": []
  }
 ],
 "metadata": {
  "graffiti": {
   "firstAuthorId": "af9e0b36-2ad2-11ea-83c4-a78dc7ef519f",
   "id": "id_d58m4fr",
   "language": "EN"
  },
  "kernelspec": {
   "display_name": "Python 3",
   "language": "python",
   "name": "python3"
  },
  "language_info": {
   "codemirror_mode": {
    "name": "ipython",
    "version": 3
   },
   "file_extension": ".py",
   "mimetype": "text/x-python",
   "name": "python",
   "nbconvert_exporter": "python",
   "pygments_lexer": "ipython3",
   "version": "3.10.0"
  }
 },
 "nbformat": 4,
 "nbformat_minor": 2
}
