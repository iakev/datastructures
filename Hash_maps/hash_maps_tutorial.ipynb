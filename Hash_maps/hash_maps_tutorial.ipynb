{
 "cells": [
  {
   "cell_type": "markdown",
   "metadata": {},
   "source": [
    "## A Tutorial on HashMap\n",
    " Data structures help us in representing and efficiently manipulating the data associated with real world problems.\n",
    "\n",
    " Let's work on such a problem."
   ]
  },
  {
   "cell_type": "markdown",
   "metadata": {},
   "source": [
    "### The problem Scenario\n",
    "\n",
    "In a class of students, store heights for each student.\n",
    "\n"
   ]
  },
  {
   "cell_type": "markdown",
   "metadata": {},
   "source": [
    "The problem in itself is very simple. We have the data of heights of each student. We want to store it so that next time someone asks for height of a student, we can easily return the value. But how can we store these heights?\n",
    "\n",
    "Obviously we can use a database and store these values. But, let's say we don't want to do that for now. We want to use a data structure to store these values as part of our program. For the sake of simplicity, our problem is limited to storing heights of students. But you can certainly imagine scenarios where you have to store such `key-value` pairs and later on when someone gives you a `key`, you can efficiently return the corrresponding `value`.\n",
    "\n",
    "The class diagram for HashMaps would look something like this."
   ]
  },
  {
   "cell_type": "code",
   "execution_count": null,
   "metadata": {},
   "outputs": [],
   "source": [
    "class HashMap:\n",
    "    \n",
    "    def __init__(self):\n",
    "        self.num_entries = 0\n",
    "    \n",
    "    def put(self, key, value):\n",
    "        pass\n",
    "    \n",
    "    def get(self, key):\n",
    "        pass\n",
    "    \n",
    "    def size(self):\n",
    "        return self.num_entries"
   ]
  },
  {
   "cell_type": "markdown",
   "metadata": {},
   "source": [
    "### Arrays, Linked-Lists, Queues and Stacks\n",
    "\n",
    "We can try any of the above data structures to see if possible to implement a hashmap. \n",
    "<br><br>\n",
    "An array to store the names and another to store the heights would work. However, in a worst case scenario we would need to traverse the aentire array to match the name with the requested height leading to `O(n)` time complexity and when using a sorted array at best `O(log(n))` complexity.\n",
    "<br><br>\n",
    "A linked list would indeed work however it still would need traversing hence this would not increase the lookup to constant time.\n",
    "<br><br>\n",
    "Queues and Stacks would surely increase the lookup for the cases when getting the oldest and newest elemts respectively to `O(1)`, however this would not work for other elements as we would need to traverse the queues and the stacks.\n",
    "<br><br>\n",
    "Looking again at arrays if we could use an array index associated with a `key` (in this specific case a name) to look up the `value` (in this case height). i.e `arr[3]` then this would be a constant look up time. `The only problem now is how to turn strings or any other data structure to an array index??`\n",
    "\n",
    "#### Hashing functions\n",
    "Hashing functions in turn help us to answer the above question and therefore make our hashmap functional with constant lookup time.\n"
   ]
  },
  {
   "cell_type": "code",
   "execution_count": 1,
   "metadata": {},
   "outputs": [],
   "source": [
    "def hash_function(string):\n",
    "    # we can use sum corresponding ASCII values of string and use it as the hash value\n",
    "    # ord(character) determines ASCII value of a particular character\n",
    "    hash_code = 0\n",
    "    for char in string:\n",
    "         hash_code += ord(char)\n",
    "\n",
    "    return hash_code"
   ]
  },
  {
   "cell_type": "code",
   "execution_count": 2,
   "metadata": {},
   "outputs": [
    {
     "name": "stdout",
     "output_type": "stream",
     "text": [
      "394\n"
     ]
    }
   ],
   "source": [
    "print(hash_function(\"abcd\"))"
   ]
  },
  {
   "cell_type": "markdown",
   "metadata": {},
   "source": [
    "The above hashing function is not a good one. This is because it gives the same answer for `abcd` and `bcad`,leading to coliision. A good hashing function should avoid collision. Honestly in reality differrent types of keys require different hashing functions. i.e. hash functions for strings will be different from hash functions for intergers and different still for objects of our own created classes."
   ]
  },
  {
   "cell_type": "markdown",
   "metadata": {},
   "source": [
    "## Hash Functions for Strings\n",
    "For a string like `abcde` an effective solution is to treat this as number of prime number base `p`.  This is to say:\n",
    "For a number e.g. `578` can be represented in base 10 number system as $$5*10^2+7*10^1+8*10^0$$\n",
    "\n",
    "Now for our string we can similarly write; $$a*p^4+b*10^3+c*10^2+d*10^1+e*10^0$$ However,we replace the letters with their corresponding ASCII values. This methood of implementing hash functions for strings is among the best functions among a well researched area. Prime numbers are ideal since they offer a good distribution. Most common prime numbers used are `31` and `37`.\n"
   ]
  },
  {
   "cell_type": "markdown",
   "metadata": {},
   "source": [
    "Hence using the above algorithm we can get a corresponding interger value for each string key and **use it as an array index** of an array e.g. `bucket_array`. Each entry in this array is called a `bucket` and the index to store a bucket is a `bucket_index`. The `bucket_array` can be visualised as shown below.\n",
    "\n",
    "<img style=\"float: center;height:500px\" src=\"bucket0.png\"><br>\n",
    "\n",
    "Defining our class with these details."
   ]
  },
  {
   "cell_type": "code",
   "execution_count": 4,
   "metadata": {},
   "outputs": [],
   "source": [
    "class HashMap:\n",
    "\n",
    "    def __init__(self,initial_size=10) -> None:\n",
    "        self.bucket_array = [None for _ in range(initial_size)]\n",
    "        self.num_entries = 0\n",
    "        self.p = 37\n",
    "        \n",
    "    def put(self, key, value):\n",
    "        pass\n",
    "    \n",
    "    def get(self, key):\n",
    "        pass\n",
    "    \n",
    "    def size(self):\n",
    "        return self.num_entries\n",
    "    \n",
    "    def get_bucket_index(self,key):\n",
    "        return self.get_hash_code(key)\n",
    "\n",
    "    def get_hash_code(self,key):\n",
    "        # to ensure it is a key\n",
    "        key = str(key)\n",
    "        hash_code = 0\n",
    "        # first coeffecient represented below as self.p^0=1\n",
    "        coeffecient = 1\n",
    "\n",
    "        for character in key:\n",
    "            hash_code += ord(character)*coeffecient\n",
    "            coeffecient *= self.p\n",
    "\n",
    "        return hash_code"
   ]
  },
  {
   "cell_type": "code",
   "execution_count": 5,
   "metadata": {},
   "outputs": [
    {
     "name": "stdout",
     "output_type": "stream",
     "text": [
      "5204554\n"
     ]
    }
   ],
   "source": [
    "hash_map = HashMap()\n",
    "\n",
    "bucket_index = hash_map.get_bucket_index(\"abcd\")\n",
    "print(bucket_index)"
   ]
  },
  {
   "cell_type": "code",
   "execution_count": 6,
   "metadata": {},
   "outputs": [
    {
     "name": "stdout",
     "output_type": "stream",
     "text": [
      "5054002\n"
     ]
    }
   ],
   "source": [
    "hash_map = HashMap()\n",
    "\n",
    "bucket_index = hash_map.get_bucket_index(\"bcda\")\n",
    "print(bucket_index)"
   ]
  },
  {
   "cell_type": "markdown",
   "metadata": {},
   "source": [
    "The above shows that our hash function is not causing collision as the simple one discussed above. However the `bucket_index` are *way huge* and **creating such large arrays will be a space complexity issue which is not viable**. A way out of this is to use a compression function to compress the values outputed above and hence create reasonably sized arrays.<br><br>\n",
    "A very good,simple and effective compression function can be the `mod len(array)` utilizing the `modulu operator %`, which returns the remainder of one number divided by the other.<br><br>\n",
    "So, if we have an array of size 10, we can be sure that modulo of any number with 10 will be less than 10, allowing it to fit into our bucket array. You can visualize the `bucket array` again as shown in the figure below, in which the `bucket_index` is generated by the string key:\n",
    "\n",
    "<img style=\"float:center;height:500px\" src=\"bucket1.png\"><br>\n",
    "\n",
    "**Note that here we are storing the string key and corresponding numeric value in a Node**. \n",
    "Because of how modulo operator works, instead of creating a new function, we can write the logic for compression function in our `get_hash_code()` function itself.\n",
    "\n",
    "https://www.khanacademy.org/computing/computer-science/cryptography/modarithmetic/a/modular-multiplication"
   ]
  },
  {
   "cell_type": "code",
   "execution_count": null,
   "metadata": {},
   "outputs": [],
   "source": []
  }
 ],
 "metadata": {
  "interpreter": {
   "hash": "edd1d3549cf072e5f1c96c28c5126be4dddecf6bd9bc18231197754c991085f8"
  },
  "kernelspec": {
   "display_name": "Python 3.10.0 ('datastructures')",
   "language": "python",
   "name": "python3"
  },
  "language_info": {
   "codemirror_mode": {
    "name": "ipython",
    "version": 3
   },
   "file_extension": ".py",
   "mimetype": "text/x-python",
   "name": "python",
   "nbconvert_exporter": "python",
   "pygments_lexer": "ipython3",
   "version": "3.10.0"
  },
  "orig_nbformat": 4
 },
 "nbformat": 4,
 "nbformat_minor": 2
}
