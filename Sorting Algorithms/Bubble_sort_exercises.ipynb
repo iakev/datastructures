{
 "cells": [
  {
   "cell_type": "markdown",
   "metadata": {},
   "source": [
    "# Bubble Sort Exercises\n",
    "Now that you know how about bubble sort works, you'll implement bubble sort for two exercises."
   ]
  },
  {
   "cell_type": "markdown",
   "metadata": {},
   "source": [
    "## Exerise 1\n",
    "\n",
    "Sam records when they wake up every morning. Assuming Sam always wakes up in the same hour, use bubble sort to sort by earliest to latest."
   ]
  },
  {
   "cell_type": "code",
   "execution_count": 31,
   "metadata": {},
   "outputs": [
    {
     "name": "stdout",
     "output_type": "stream",
     "text": [
      "[16, 49, 3, 12, 56, 49, 55, 22, 13, 46, 19, 55, 46, 13, 25, 56, 9, 48, 45]\n",
      "[3, 9, 12, 13, 13, 16, 19, 22, 25, 45, 46, 46, 48, 49, 49, 55, 55, 56, 56]\n",
      "Pass\n"
     ]
    }
   ],
   "source": [
    "wakeup_times = [16,49,3,12,56,49,55,22,13,46,19,55,46,13,25,56,9,48,45]\n",
    "print(wakeup_times)\n",
    "def bubble_sort_1(l):\n",
    "    # TODO: Implement bubble sort solution\n",
    "    for i in range(len(l)):\n",
    "        current_index = 0\n",
    "        rolling_index = 1\n",
    "        \n",
    "        while rolling_index <= len(l)-1:\n",
    "            if l[rolling_index] < l[current_index]:\n",
    "                temp = l[current_index]\n",
    "                l[current_index] = l[rolling_index]\n",
    "                l[rolling_index] = temp\n",
    "            \n",
    "            current_index += 1\n",
    "            rolling_index += 1\n",
    "\n",
    "\n",
    "bubble_sort_1(wakeup_times)\n",
    "print(wakeup_times)\n",
    "print (\"Pass\" if (wakeup_times[0] == 3) else \"Fail\")\n",
    "\n",
    "##### UDACITY SOLUTION ############################\n",
    "# def bubble_sort(l):\n",
    "#     for iteration in range(len(l)):\n",
    "#         for index in range(1, len(l)):\n",
    "#             this = l[index]\n",
    "#             prev = l[index - 1]\n",
    "\n",
    "#             if prev <= this:\n",
    "#                 continue\n",
    "\n",
    "#             l[index] = prev\n",
    "#             l[index - 1] = this"
   ]
  },
  {
   "cell_type": "markdown",
   "metadata": {},
   "source": [
    "## Exercise 2\n",
    "Sam doesn't always go to sleep in the same hour. Given the following times Sam has gone to sleep, sort the times from latest to earliest."
   ]
  },
  {
   "cell_type": "code",
   "execution_count": 30,
   "metadata": {},
   "outputs": [
    {
     "name": "stdout",
     "output_type": "stream",
     "text": [
      "[(24, 13), (21, 55), (23, 20), (22, 5), (24, 23), (21, 58), (24, 3)]\n",
      "[(24, 23), (24, 13), (24, 3), (23, 20), (22, 5), (21, 58), (21, 55)]\n",
      "Pass\n"
     ]
    }
   ],
   "source": [
    "# Entries are (h, m) where h is the hour and m is the minute\n",
    "sleep_times = [(24,13), (21,55), (23,20), (22,5), (24,23), (21,58), (24,3)]\n",
    "print(sleep_times)\n",
    "\n",
    "def bubble_sort_2(l):\n",
    "    # TODO: Implement bubble sort solution\n",
    "    for i in range(len(l)):\n",
    "        current_index = 0\n",
    "        rolling_index = 1\n",
    "        \n",
    "        while rolling_index <= len(l)-1:\n",
    "            if l[rolling_index][0] > l[current_index][0]:\n",
    "                temp = l[current_index]\n",
    "                l[current_index] = l[rolling_index]\n",
    "                l[rolling_index] = temp\n",
    "\n",
    "            elif l[rolling_index][0] == l[current_index][0]:\n",
    "                if l[rolling_index][1] > l[current_index][1]:\n",
    "                    temp = l[current_index]\n",
    "                    l[current_index] = l[rolling_index]\n",
    "                    l[rolling_index] = temp\n",
    "            \n",
    "            current_index += 1\n",
    "            rolling_index += 1\n",
    "\n",
    "bubble_sort_2(sleep_times)\n",
    "print(sleep_times)\n",
    "print (\"Pass\" if (sleep_times == [(24,23), (24,13), (24,3), (23,20), (22,5), (21,58), (21,55)]) else \"Fail\")\n",
    "\n",
    "###################### UDACITY SOLUTION ###################################################\n",
    "# def bubble_sort_2(l):\n",
    "#     for iteration in range(len(l)):\n",
    "#         for index in range(1, len(l)):\n",
    "#             this_hour, this_min = l[index]\n",
    "#             prev_hour, prev_min = l[index - 1]\n",
    "\n",
    "#             if prev_hour > this_hour or (prev_hour == this_hour and prev_min > this_min):\n",
    "#                 continue\n",
    "\n",
    "#             l[index] = (prev_hour, prev_min)\n",
    "#             l[index - 1] = (this_hour, this_min)"
   ]
  }
 ],
 "metadata": {
  "interpreter": {
   "hash": "edd1d3549cf072e5f1c96c28c5126be4dddecf6bd9bc18231197754c991085f8"
  },
  "kernelspec": {
   "display_name": "Python 3.10.0 ('datastructures')",
   "language": "python",
   "name": "python3"
  },
  "language_info": {
   "codemirror_mode": {
    "name": "ipython",
    "version": 3
   },
   "file_extension": ".py",
   "mimetype": "text/x-python",
   "name": "python",
   "nbconvert_exporter": "python",
   "pygments_lexer": "ipython3",
   "version": "3.10.0"
  },
  "orig_nbformat": 4
 },
 "nbformat": 4,
 "nbformat_minor": 2
}
