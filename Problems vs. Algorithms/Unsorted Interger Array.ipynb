{
 "cells": [
  {
   "cell_type": "markdown",
   "metadata": {},
   "source": [
    "## Max and Min in a Unsorted Array\n",
    "In this problem, we will look for smallest and largest integer from a list of unsorted integers. The code should run in `O(n)` time. Do not use Python's inbuilt functions to find min and max.\n",
    "\n",
    "**Bonus Challenge**: Is it possible to find the max and min in a single traversal?"
   ]
  },
  {
   "cell_type": "markdown",
   "metadata": {},
   "source": [
    "Sorting usually requires `O(n log n)` time Can you come up with a `O(n)` algorithm (i.e., linear time)? This can be done with a divide and conquer algorithm which is a `O(n)` time complexity."
   ]
  },
  {
   "cell_type": "code",
   "execution_count": 4,
   "metadata": {},
   "outputs": [
    {
     "name": "stdout",
     "output_type": "stream",
     "text": [
      "Pass\n"
     ]
    }
   ],
   "source": [
    "def get_min_max(ints):\n",
    "    \"\"\"\n",
    "    Return a tuple(min, max) out of list of unsorted integers.\n",
    "\n",
    "    Args:\n",
    "       ints(list): list of integers containing one or more integers\n",
    "    \"\"\"\n",
    "    min = fastSelect(ints,1)\n",
    "    max = fastSelect(ints,len(ints))\n",
    "\n",
    "    return (min,max)\n",
    "\n",
    "import math #for using math.ceil\n",
    "\n",
    "def fastSelect(Arr, k):\n",
    "    #Breaking Arr into [n/5] groups\n",
    "    groups = {} #dictionary to store the broken up groups\n",
    "    group_name = \"group_\"\n",
    "    no_of_grps = math.ceil(len(Arr)/5)\n",
    "    elemnts_in_group = int(len(Arr)/no_of_grps)\n",
    "    count = 1\n",
    "    for i in range(0,len(Arr),elemnts_in_group):\n",
    "        if len(groups.values()) == no_of_grps:\n",
    "            groups[group_name+str(count-1)].append(Arr[i])\n",
    "            continue\n",
    "        groups[group_name + str(count)] = [Arr[j] for j in range(i,i+elemnts_in_group)] \n",
    "        count += 1\n",
    "\n",
    "    #For each of the groups above we sort them,find their medians,and add the median to a new list\n",
    "    \n",
    "    medians = []\n",
    "    for group in groups:\n",
    "        groups[group].sort()\n",
    "        median = groups[group][len(groups[group])//2]\n",
    "        medians.append(median)\n",
    "\n",
    "    # Finding a good pivot for our algorithm recursively\n",
    "    if len(medians) == 1:\n",
    "        pivot = medians[0]\n",
    "\n",
    "    elif (len(medians) > 1):\n",
    "        pivot = fastSelect(medians,len(medians)//2)\n",
    "\n",
    "\n",
    "    #Partitioning originl array into three sub-arrays as informed by the good pivot\n",
    "    Arr_less_p = []\n",
    "    Arr_equal_p = []\n",
    "    Arr_greater_p = []\n",
    "    \n",
    "    for i in Arr:\n",
    "        if i < pivot:\n",
    "            Arr_less_p.append(i)\n",
    "\n",
    "        elif i == pivot:\n",
    "            Arr_equal_p.append(i)\n",
    "\n",
    "        else:\n",
    "            Arr_greater_p.append(i)\n",
    "\n",
    "    #perform recursion based on sizes of our three sub-arrays\n",
    "\n",
    "    if k <= len(Arr_less_p):\n",
    "       return fastSelect(Arr_less_p,k)\n",
    "\n",
    "    elif k > (len(Arr_equal_p)+len(Arr_less_p)):\n",
    "       return fastSelect(Arr_greater_p, (k-(len(Arr_equal_p)+len(Arr_less_p))))\n",
    "\n",
    "    else:\n",
    "        return pivot\n",
    "\n",
    "\n",
    "\n",
    "## Example Test Case of Ten Integers\n",
    "import random\n",
    "\n",
    "l = [i for i in range(0, 10)]  # a list containing 0 - 9\n",
    "random.shuffle(l)\n",
    "\n",
    "print (\"Pass\" if ((0, 9) == get_min_max(l)) else \"Fail\")"
   ]
  }
 ],
 "metadata": {
  "interpreter": {
   "hash": "edd1d3549cf072e5f1c96c28c5126be4dddecf6bd9bc18231197754c991085f8"
  },
  "kernelspec": {
   "display_name": "Python 3.10.0 ('datastructures')",
   "language": "python",
   "name": "python3"
  },
  "language_info": {
   "codemirror_mode": {
    "name": "ipython",
    "version": 3
   },
   "file_extension": ".py",
   "mimetype": "text/x-python",
   "name": "python",
   "nbconvert_exporter": "python",
   "pygments_lexer": "ipython3",
   "version": "3.10.0"
  },
  "orig_nbformat": 4
 },
 "nbformat": 4,
 "nbformat_minor": 2
}
