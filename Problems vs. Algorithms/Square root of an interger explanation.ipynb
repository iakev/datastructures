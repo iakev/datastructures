{
 "cells": [
  {
   "cell_type": "markdown",
   "metadata": {},
   "source": [
    "## Problem Statement\n",
    "For this problem one should find the square root of an interger without using any python library. We are concerned with the floor value of the square root. The time complexity for the square root should be `O(log n)`.\n",
    "\n",
    "### Design Considerations\n",
    "So to find this square root I decided to use binary search algorithm and just created a list of length `number` (input to the sqrt function). So from the list the floor value of square root is found by halfing the list size at each iteration.\n",
    "\n",
    "### Space and Time Complexity\n",
    "Considering the input list of size *number*, the space complexity is `O(n)` (for creating the initial list). This is because the binary search algorithm is implemented as an in-place algorithm.\n",
    "\n",
    "Time complexity for this algorithm is `O(log n)` since this is the complexity for a binary search algorithm."
   ]
  }
 ],
 "metadata": {
  "language_info": {
   "name": "python"
  },
  "orig_nbformat": 4
 },
 "nbformat": 4,
 "nbformat_minor": 2
}
