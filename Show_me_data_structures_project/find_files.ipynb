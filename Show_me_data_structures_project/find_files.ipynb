{
 "cells": [
  {
   "cell_type": "markdown",
   "metadata": {},
   "source": [
    "## Finding Files\n",
    "For this problem, the goal is to write code for finding all files under a directory (and all directories beneath it) that end with \".c\"\n",
    "\n",
    "There is a test directory named `testdir` in this folder for testing purposes. The directory tree is shown below."
   ]
  },
  {
   "cell_type": "markdown",
   "metadata": {},
   "source": [
    "**/testdir<br>\n",
    "./testdir/subdir1<br>\n",
    "./testdir/subdir1/a.c<br>\n",
    "./testdir/subdir1/a.h<br>\n",
    "./testdir/subdir2<br>\n",
    "./testdir/subdir2/.gitkeep<br>\n",
    "./testdir/subdir3<br>\n",
    "./testdir/subdir3/subsubdir1<br>\n",
    "./testdir/subdir3/subsubdir1/b.c<br>\n",
    "./testdir/subdir3/subsubdir1/b.h<br>\n",
    "./testdir/subdir4<br>\n",
    "./testdir/subdir4/.gitkeep<br>\n",
    "./testdir/subdir5<br>\n",
    "./testdir/subdir5/a.c<br>\n",
    "./testdir/subdir5/a.h<br>\n",
    "./testdir/t1.c<br>\n",
    "./testdir/t1.h<br>**"
   ]
  },
  {
   "cell_type": "markdown",
   "metadata": {},
   "source": [
    "Python's os module will be useful—in particular, with the following resources:\n",
    "\n",
    "[os.path.isdir(path)](https://docs.python.org/3.7/library/os.path.html#os.path.isdir)\n",
    "\n",
    "[os.path.isfile(path)](https://docs.python.org/3.7/library/os.path.html#os.path.isfile)\n",
    "\n",
    "[os.listdir(directory)](https://docs.python.org/3.7/library/os.html#os.listdir)\n",
    "\n",
    "[os.path.join(...)](https://docs.python.org/3.7/library/os.path.html#os.path.join)\n",
    "\n",
    "**Note:**  `os.walk()` is a handy python method than can achieve the outlaid problem easily however, we are not allowed to use `os.walk()`.\n",
    "\n",
    "Some boiler plate code is below to get started."
   ]
  },
  {
   "cell_type": "code",
   "execution_count": 4,
   "metadata": {},
   "outputs": [],
   "source": [
    "\n",
    "def find_files(suffix, path):\n",
    "    \"\"\"\n",
    "    Find all files beneath path with file name suffix.\n",
    "\n",
    "    Note that a path may contain further subdirectories\n",
    "    and those subdirectories may also contain further subdirectories.\n",
    "\n",
    "    There are no limit to the depth of the subdirectories can be.\n",
    "\n",
    "    Args:\n",
    "      suffix(str): suffix if the file name to be found\n",
    "      path(str): path of the file system\n",
    "\n",
    "    Returns:\n",
    "       a list of paths\n",
    "    \"\"\"\n",
    "    paths_lists = []\n",
    "    files = find_files_recursively(suffix,path,paths_lists) #call to initial recursion call\n",
    "    return files\n",
    "\n",
    "#helper recursive function\n",
    "def find_files_recursively(suffix,path,lists):\n",
    "    import os\n",
    "    # base case when path refers to a file \n",
    "    if os.path.isfile(path):\n",
    "      if path.endswith(suffix):\n",
    "        lists.append(path)\n",
    "      return \n",
    "\n",
    "    #rest of cases when path refers to a directory\n",
    "    else:\n",
    "      directory_contents = os.listdir(path)\n",
    "      for content in directory_contents:\n",
    "        fullpath = os.path.join(path,content)\n",
    "        find_files_recursively(suffix,fullpath,lists) #recursive call\n",
    "\n",
    "    return lists"
   ]
  },
  {
   "cell_type": "code",
   "execution_count": 5,
   "metadata": {},
   "outputs": [
    {
     "name": "stdout",
     "output_type": "stream",
     "text": [
      "['./testdir/subdir3/subsubdir1/b.c', './testdir/subdir5/a.c', './testdir/subdir1/a.c', './testdir/t1.c']\n"
     ]
    }
   ],
   "source": [
    "suffix = \".c\"\n",
    "path = \"./testdir\"\n",
    "print(find_files(suffix,path))"
   ]
  }
 ],
 "metadata": {
  "interpreter": {
   "hash": "edd1d3549cf072e5f1c96c28c5126be4dddecf6bd9bc18231197754c991085f8"
  },
  "kernelspec": {
   "display_name": "Python 3.10.0 ('datastructures')",
   "language": "python",
   "name": "python3"
  },
  "language_info": {
   "codemirror_mode": {
    "name": "ipython",
    "version": 3
   },
   "file_extension": ".py",
   "mimetype": "text/x-python",
   "name": "python",
   "nbconvert_exporter": "python",
   "pygments_lexer": "ipython3",
   "version": "3.10.0"
  },
  "orig_nbformat": 4
 },
 "nbformat": 4,
 "nbformat_minor": 2
}
