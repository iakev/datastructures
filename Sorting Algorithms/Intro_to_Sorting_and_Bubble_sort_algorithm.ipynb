{
 "cells": [
  {
   "cell_type": "markdown",
   "metadata": {},
   "source": [
    "# Sorting Algos\n",
    "\n",
    "Sorting algorithms change the order of elements in an array. There are normally two kinds of sorting algos.\n",
    " - In-place Sorting algorithm\n",
    " - Not in place Sorting algorithm\n",
    "\n",
    "In- place sorting algorithm do the actual re-arrangement without the need for an extra data structure hence resulting in a space complexity of $O(1)$.\n",
    "\n",
    "**Note:** \n",
    "- *Kindly understand how all sorting algos work since it's very rare to find sorting problems that aren't covered in this section and memorize the run time and space complexities for interview purposes.*\n",
    "- *There will often be a trade-off between using less space or less runtime when making design choices. Hence make choices suitably to justify your preferred choice.*\n",
    "  "
   ]
  },
  {
   "cell_type": "markdown",
   "metadata": {},
   "source": [
    "## Bubble Sort or Sinking Sort\n",
    "Bubble sort is the naive approach to sorting whereby each element is compared to every other element and switched accordingly. Buuble sot is an example of in-place sorting algorithm. \n",
    "\n",
    "### Effeciency of Bubble sort\n",
    "\n",
    "Given an array of size `n`, thereare `n-1` iterations carrie dout, whhereby each iteration consists of `n-1` comparisions. Hence this means that the algorithm takes $(n-1)*(n-1)$ time complexity. I.e. $O(n^2 -2n + 1)$. Ignoring the `-2n + 1` we end up with a complexity of $O(n^2)$. Since it is an in-place sorting algorithm it has a Space complexity of $O(1)$ constant."
   ]
  }
 ],
 "metadata": {
  "language_info": {
   "name": "python"
  },
  "orig_nbformat": 4
 },
 "nbformat": 4,
 "nbformat_minor": 2
}
