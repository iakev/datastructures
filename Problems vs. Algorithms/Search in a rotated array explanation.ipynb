{
 "cells": [
  {
   "cell_type": "markdown",
   "metadata": {},
   "source": [
    "## Problem Statement\n",
    "We are given a sorted array rotated at a random pivot point. The goal is to find a given target's value index and if not present return -1. We assume no duplicates are given and are constrained to a time complexity of `O(log n)`.\n",
    "\n",
    "### Design considerations\n",
    "Due to the constraint given of time complexity of `O(log n)`. I decided to use the binary search algorithm to solve the problem. It was the same algorithm however I needed to pay close attention to elements immediately before and after the mid element.\n",
    "\n",
    "### Time and Space Complexity\n",
    "Space complexity used in this algorithm is `O(1)`, since the binary search implemented is in-place.\n",
    "\n",
    "Time complexity for the solution is `O(log n)`. since we half the input size every time as in every binary search algorithm."
   ]
  }
 ],
 "metadata": {
  "language_info": {
   "name": "python"
  },
  "orig_nbformat": 4
 },
 "nbformat": 4,
 "nbformat_minor": 2
}
