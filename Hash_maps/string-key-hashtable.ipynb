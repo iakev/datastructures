{
 "cells": [
  {
   "cell_type": "markdown",
   "metadata": {},
   "source": [
    "## String Key Hash Table"
   ]
  },
  {
   "cell_type": "markdown",
   "metadata": {},
   "source": [
    "#### Problem Statement\n",
    "In this quiz we write our own hash table and hash function that uses string keys. The table will store strings in the buckets. The `bucket_index` is calculated by the first two letters of the string according to the formula below.<br>\n",
    "\n",
    "Hash value = (ASCII Value of First Letter * 100) + ASCII value of Second Letter\n",
    "\n",
    "The above hash value generated is the `bucket_index`.\n",
    "\n",
    "**Example:** For a string \"UDACITY\", the ASCII value for letters 'U' and 'D' are 85 and 68 respectively. The hash value would be: `(85 *100) + 68 = 8568.`\n",
    "\n",
    "You can use the Python function ord() to get the ASCII value of a letter, and chr() to get the letter associated with an ASCII value.\n",
    "\n",
    "**Assumptions**\n",
    "\n",
    "1. The string will have at least two letters,\n",
    "2. The first two characters are uppercase letters (ASCII values from 65 to 90).\n",
    "\n",
    "**Rules**\n",
    "- Don't Use python dictionaries ---only lists are allowed.\n",
    "- Store `lists` at each bucket, and not just the string itself. For example, you can store \"UDACITY\" at index 8568 as [\"UDACITY\"].\n",
    "\n",
    "**Instructions**\n",
    "Create a `HashTable` class, with the following functions:\n",
    "\n",
    "- `store()` - a function that takes a string as input, and stores it in the hash table.\n",
    "- `lookup()` - a function that checks if a string is already available in the hash table. If yes, return the hash value, else return -1.\n",
    "- `calculate_hash_value` - a helper function to calculate a hash value of a given string."
   ]
  },
  {
   "cell_type": "markdown",
   "metadata": {},
   "source": [
    "### Exercise - Try building a string hash table!"
   ]
  },
  {
   "cell_type": "code",
   "execution_count": 8,
   "metadata": {},
   "outputs": [],
   "source": [
    "\"\"\"Write a HashTable class that stores strings\n",
    "in a hash table, where keys are calculated\n",
    "using the first two letters of the string.\"\"\"\n",
    "\n",
    "class HashTable(object):\n",
    "    def __init__(self):\n",
    "        self.table = [None]*10000\n",
    "\n",
    "    def store(self, string):\n",
    "        \"\"\"TODO: Input a string that's stored in \n",
    "        the table.\"\"\"\n",
    "        hash_value = self.lookup(string)\n",
    "        \n",
    "        if hash_value != -1:\n",
    "            if self.table[hash_value] !=None:\n",
    "                self.table[hash_value].append(string)\n",
    "            self.table[hash_value] = [string]\n",
    "\n",
    "        \n",
    "\n",
    "    def lookup(self, string):\n",
    "        \"\"\"TODO: Return the hash value if the\n",
    "        string is already in the table.\n",
    "        Return -1 otherwise.\"\"\"\n",
    "        hash_value = self.calculate_hash_value(string)\n",
    "        if self.table[hash_value] is not None and string in self.table[hash_value]:\n",
    "            return hash_value\n",
    "        return -1\n",
    "\n",
    "    def calculate_hash_value(self, string):\n",
    "        \"\"\"TODO: Helper function to calulate a\n",
    "        hash value from a string.\"\"\"\n",
    "        first_letters = string[0:2]\n",
    "        hash_value = (ord(first_letters[0])*100) + ord(first_letters[1])\n",
    "        return hash_value"
   ]
  },
  {
   "cell_type": "code",
   "execution_count": 9,
   "metadata": {},
   "outputs": [
    {
     "name": "stdout",
     "output_type": "stream",
     "text": [
      "8568\n"
     ]
    }
   ],
   "source": [
    "hash_table = HashTable()\n",
    "\n",
    "print(hash_table.calculate_hash_value('UDACITY'))"
   ]
  },
  {
   "cell_type": "code",
   "execution_count": 10,
   "metadata": {},
   "outputs": [
    {
     "name": "stdout",
     "output_type": "stream",
     "text": [
      "Ud\n"
     ]
    }
   ],
   "source": [
    "stri = 'Udacity'\n",
    "st = stri[0:2]\n",
    "print(st)"
   ]
  },
  {
   "cell_type": "code",
   "execution_count": 13,
   "metadata": {},
   "outputs": [
    {
     "name": "stdout",
     "output_type": "stream",
     "text": [
      "8568\n"
     ]
    }
   ],
   "source": [
    "print(hash_table.lookup('UDACITY'))"
   ]
  },
  {
   "cell_type": "code",
   "execution_count": 12,
   "metadata": {},
   "outputs": [],
   "source": [
    "hash_table.store('UDACITY')"
   ]
  },
  {
   "cell_type": "code",
   "execution_count": 14,
   "metadata": {},
   "outputs": [
    {
     "name": "stdout",
     "output_type": "stream",
     "text": [
      "-1\n"
     ]
    }
   ],
   "source": [
    "print(hash_table.lookup('UDACIOUS'))"
   ]
  },
  {
   "cell_type": "code",
   "execution_count": 15,
   "metadata": {},
   "outputs": [
    {
     "name": "stdout",
     "output_type": "stream",
     "text": [
      "8568\n"
     ]
    }
   ],
   "source": [
    "hash_table.store('UDACIOUS')\n",
    "print (hash_table.lookup('UDACIOUS')) "
   ]
  },
  {
   "cell_type": "code",
   "execution_count": null,
   "metadata": {},
   "outputs": [],
   "source": []
  }
 ],
 "metadata": {
  "interpreter": {
   "hash": "edd1d3549cf072e5f1c96c28c5126be4dddecf6bd9bc18231197754c991085f8"
  },
  "kernelspec": {
   "display_name": "Python 3.10.0 ('datastructures')",
   "language": "python",
   "name": "python3"
  },
  "language_info": {
   "codemirror_mode": {
    "name": "ipython",
    "version": 3
   },
   "file_extension": ".py",
   "mimetype": "text/x-python",
   "name": "python",
   "nbconvert_exporter": "python",
   "pygments_lexer": "ipython3",
   "version": "3.10.0"
  },
  "orig_nbformat": 4
 },
 "nbformat": 4,
 "nbformat_minor": 2
}
