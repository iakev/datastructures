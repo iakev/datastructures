{
 "cells": [
  {
   "cell_type": "markdown",
   "metadata": {},
   "source": [
    "## Intro to Graphs\n",
    "\n",
    "Here we have graphs data structure which are useful when describing data that defines relationships between objects.\n",
    "\n",
    "Here is an introductory [link](https://youtu.be/DFR8F2Q9lgo)."
   ]
  },
  {
   "cell_type": "markdown",
   "metadata": {},
   "source": [
    "### What are graphs\n",
    "Graphs here are not the normal graphs showing a trend e.g. line graph or a function. The graphs we are talking about could be considered **networks**. A graph is like a *tree* which contains *nodes/vertices* and *edges*. Actually a *tree* is a type of graph. Since cycling in a graph is allowed there are normally no root nodes in a graph. \n",
    "\n",
    "**Nodes** store all types of information in a graph and consequently **edges** too can store data. These design conditions are usually informed by the specific use case for a certain graph data structure. Click [here](https://youtu.be/p-_DFOyEMV8) for further explanation."
   ]
  },
  {
   "cell_type": "markdown",
   "metadata": {},
   "source": [
    "### Properties and some types of graphs\n",
    "\n",
    "Graphs can be **directional** or **undirectional**. Directional graphs just mean that there is an inferred direction from a node to another node. This might apply when making a graph to make a travel itinerary. Undirectional graph may apply when making a graph outlining people who have met. It might not make sense to use directions there.\n",
    "\n",
    "Unlike trees in a graph it is possible to start at a certain node, traverse the whole graph and return to the start node. This is what is referred to as a **cycle**. A cycle is dangerous when traversing a graph since you might end up in *infinite loop hell.*\n",
    "\n",
    "Therer is a certain graph called a directional acyclic graph **(DAG)**. This is a graph that has a direction intent and contains no cycles.\n",
    "\n",
    "Follow [me]([**directional**](https://youtu.be/lF0vUktQDPo)) for more info"
   ]
  },
  {
   "cell_type": "markdown",
   "metadata": {},
   "source": [
    "### Graph representation\n",
    "Graphs can be functionally the same albeit having different implementation methodologies. \n",
    "\n",
    "One strategy of implementation is by utilizing the **OOP** paradigm,where node/vertice objects are defined and so are edge objects. Both objects can have references to each other as attributes. However for simple graphs this can be cumbersome.\n",
    "\n",
    "Second strategy for simple graphs is to use lists to represents edges of graphs. This can be achieved for example in two ways. One way is by listing nodes connected by an edge in a list that is inside the *edges lists*. Example is `[[0,1],[1,2],[1,3],[2,3]].\n",
    "\n",
    "Another way is by listing adjacent vertices to a certain node inside a list as a list. The node in question id is the index of the inner list inside the outer list that in turn contains the adjacent nodes as elements.\n",
    "\n",
    "note that these two list are 2D lists since they are lists of lists.\n",
    "\n",
    "See [explanation video](https://youtu.be/uw9u6dtl0WA) \n",
    "\n",
    "There is also another method by using an adjacency matrix. See [here](https://youtu.be/FsFhoTALA1c).\n",
    "\n",
    "The method chosen depends on the use-case basis."
   ]
  },
  {
   "cell_type": "markdown",
   "metadata": {},
   "source": [
    "## Graph traversal\n",
    "\n",
    "Graph traversal is easy (so they say) and there are normally two types i.e. **DFS** *(Depth First Search)* and **BFS** *(Breadth First Search)*.\n",
    "\n",
    "These traversal methods are the basic building blocks of more advanced graph algorithms, hence it is important to master them well.\n"
   ]
  },
  {
   "cell_type": "markdown",
   "metadata": {},
   "source": [
    "### DFS\n",
    "\n",
    "Depth first search involves visiting every vertice/node. **Note** traversal can also be used for search purposes. This can be achieved through *iteration* or *recursion*. When iterating a stack data structure is utilized otherwise for recursive solution no stack is needed. Check out this [video explanation](https://youtu.be/BC8jEidd2EQ) "
   ]
  },
  {
   "cell_type": "markdown",
   "metadata": {},
   "source": [
    "## BFS\n",
    "Similar to DFS we visit every node in the graph. However in **BFS**, we visit every edge of a particular node first before goming to the next node and so on. Implementation of this is done via a queue ***(FIFO)***. By this method after a particular node has run out of edges we dequeue the que and follow the edges of the dequeud node. By way of implemention this process is akin to building a tree with a stating node as a root node and building a level at a time progressively according to the number of nodes in the graph. For more see [here](https://youtu.be/pol4kGNlvJA)."
   ]
  },
  {
   "cell_type": "markdown",
   "metadata": {},
   "source": []
  }
 ],
 "metadata": {
  "language_info": {
   "name": "python"
  },
  "orig_nbformat": 4
 },
 "nbformat": 4,
 "nbformat_minor": 2
}
