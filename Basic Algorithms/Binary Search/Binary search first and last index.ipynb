{
 "cells": [
  {
   "cell_type": "markdown",
   "metadata": {},
   "source": [
    "## Problem statement\n",
    "Given a sorted array that may have duplicate values, use *binary search* to find the **first** and **last** indices of a given value.\n",
    "\n",
    "For example, if you have the array `[0,1,2,2,3,3,3,4,5,6]` and the given value is `3`, the answer will be `[4,6]` as they are the first and last index of `3` respectively.\n",
    "\n",
    "The expected complexity of the problem is $O(\\log(n))$"
   ]
  },
  {
   "cell_type": "code",
   "execution_count": 52,
   "metadata": {},
   "outputs": [],
   "source": [
    "def first_and_last_index(arr, number):\n",
    "    \"\"\"\n",
    "    Given a sorted array that may have duplicate values, use binary \n",
    "    search to find the first and last indexes of a given value.\n",
    "\n",
    "    Args:\n",
    "        arr(list): Sorted array (or Python list) that may have duplicate values\n",
    "        number(int): Value to search for in the array\n",
    "    Returns:\n",
    "        a list containing the first and last indexes of the given value\n",
    "    \"\"\"\n",
    "        \n",
    "    # TODO: Write your first_and_last function here\n",
    "    # Note that you may want to write helper functions to find the start \n",
    "    # index and the end index\n",
    "    index_list = []\n",
    "    index_list.append(find_first(arr,number))\n",
    "    index_list.append(find_last(arr,number))\n",
    "\n",
    "    return index_list\n",
    "\n",
    "def find_first(arr,number,left=0):\n",
    "    # base case\n",
    "    if len(arr) == 0:\n",
    "        return -1\n",
    "\n",
    "    center = (len(arr)-1) // 2\n",
    "    \n",
    "    if arr[center] == number:\n",
    "        if center == 0:\n",
    "            return 0 + left\n",
    "\n",
    "        while arr[center-1] == number:\n",
    "            center -= 1\n",
    "\n",
    "        return center\n",
    "    \n",
    "    elif arr[center] < number:\n",
    "        index = find_first(arr[center +1:],number,left+center+1)\n",
    "\n",
    "    else:\n",
    "        index = find_first(arr[:center],number,left)\n",
    "\n",
    "    return index\n",
    "\n",
    "def find_last(arr,number,left=0):\n",
    "\n",
    "    # base case\n",
    "    if len(arr) == 0:\n",
    "        return -1\n",
    "\n",
    "    center = (len(arr)-1) // 2\n",
    "\n",
    "    if arr[center] == number:\n",
    "        if center == 0:\n",
    "            return 0 + left\n",
    "\n",
    "        while arr[center + 1] == number:\n",
    "            center = center + 1\n",
    "        \n",
    "        return center\n",
    "\n",
    "    elif arr[center] < number:\n",
    "        index = find_last(arr[center +1:],number,left+center+1)\n",
    "\n",
    "    else:\n",
    "        index = find_last(arr[:center],number,left)\n",
    "\n",
    "    return index\n",
    "\n",
    "\n",
    "##########################################UDACITY SOLUTION #############################################################\n",
    "# def first_and_last_index(arr, number):\n",
    "#     # search first occurence\n",
    "#     first_index = find_start_index(arr, number, 0, len(arr) - 1)\n",
    "    \n",
    "#     # search last occurence\n",
    "#     last_index =  find_end_index(arr, number, 0, len(arr) - 1)\n",
    "#     return [first_index, last_index]\n",
    "\n",
    "\n",
    "# def find_start_index(arr, number, start_index, end_index):\n",
    "#     # binary search solution to search for the first index of the array\n",
    "#     if start_index > end_index:\n",
    "#         return -1\n",
    "\n",
    "#     mid_index = start_index + (end_index - start_index)//2\n",
    "\n",
    "#     if arr[mid_index] == number:\n",
    "#         current_start_pos = find_start_index(arr, number, start_index, mid_index - 1)\n",
    "#         if current_start_pos != -1:\n",
    "#             start_pos = current_start_pos\n",
    "#         else:\n",
    "#             start_pos = mid_index\n",
    "#         return start_pos\n",
    "\n",
    "#     elif arr[mid_index] < number:\n",
    "#         return find_start_index(arr, number, mid_index + 1, end_index)\n",
    "#     else:\n",
    "#         return find_start_index(arr, number, start_index, mid_index - 1)\n",
    "\n",
    "\n",
    "# def find_end_index(arr, number, start_index, end_index):\n",
    "#     # binary search solution to search for the last index of the array\n",
    "#     if start_index > end_index:\n",
    "#         return  -1\n",
    "\n",
    "#     mid_index = start_index + (end_index - start_index)//2\n",
    "\n",
    "#     if arr[mid_index] == number:\n",
    "#         current_end_pos = find_end_index(arr, number, mid_index + 1, end_index)\n",
    "#         if current_end_pos != -1:\n",
    "#             end_pos = current_end_pos\n",
    "#         else:\n",
    "#             end_pos = mid_index\n",
    "#         return end_pos\n",
    "#     elif arr[mid_index] < number:\n",
    "#         return find_end_index(arr, number, mid_index + 1, end_index)\n",
    "#     else:\n",
    "#         return find_end_index(arr, number, start_index, mid_index - 1)\n"
   ]
  },
  {
   "cell_type": "code",
   "execution_count": 53,
   "metadata": {},
   "outputs": [],
   "source": [
    "def test_function(test_case):\n",
    "    input_list = test_case[0]\n",
    "    number = test_case[1]\n",
    "    solution = test_case[2]\n",
    "    output = first_and_last_index(input_list, number)\n",
    "    if output == solution:\n",
    "        print(\"Pass\")\n",
    "    else:\n",
    "        print(\"Fail\")"
   ]
  },
  {
   "cell_type": "code",
   "execution_count": 45,
   "metadata": {},
   "outputs": [
    {
     "name": "stdout",
     "output_type": "stream",
     "text": [
      "Pass\n"
     ]
    }
   ],
   "source": [
    "# test 1\n",
    "input_list = [1]\n",
    "number = 1\n",
    "solution = [0, 0]\n",
    "test_case_1 = [input_list, number, solution]\n",
    "test_function(test_case_1)"
   ]
  },
  {
   "cell_type": "code",
   "execution_count": 46,
   "metadata": {},
   "outputs": [
    {
     "name": "stdout",
     "output_type": "stream",
     "text": [
      "Pass\n"
     ]
    }
   ],
   "source": [
    "# test 2\n",
    "input_list = [0, 1, 2, 3, 3, 3, 3, 4, 5, 6]\n",
    "number = 3\n",
    "solution = [3, 6]\n",
    "test_case_2 = [input_list, number, solution]\n",
    "test_function(test_case_2)"
   ]
  },
  {
   "cell_type": "code",
   "execution_count": 47,
   "metadata": {},
   "outputs": [
    {
     "name": "stdout",
     "output_type": "stream",
     "text": [
      "Pass\n"
     ]
    }
   ],
   "source": [
    "# test 3\n",
    "input_list = [0, 1, 2, 3, 4, 5]\n",
    "number = 5\n",
    "solution = [5, 5]\n",
    "test_case_3 = [input_list, number, solution]\n",
    "test_function(test_case_3)"
   ]
  },
  {
   "cell_type": "code",
   "execution_count": 54,
   "metadata": {},
   "outputs": [
    {
     "name": "stdout",
     "output_type": "stream",
     "text": [
      "Pass\n"
     ]
    }
   ],
   "source": [
    "# test 4\n",
    "input_list = [0, 1, 2, 3, 4, 5]\n",
    "number = 6\n",
    "solution = [-1, -1]\n",
    "test_case_4 = [input_list, number, solution]\n",
    "test_function(test_case_4)"
   ]
  },
  {
   "cell_type": "code",
   "execution_count": null,
   "metadata": {},
   "outputs": [],
   "source": []
  }
 ],
 "metadata": {
  "interpreter": {
   "hash": "edd1d3549cf072e5f1c96c28c5126be4dddecf6bd9bc18231197754c991085f8"
  },
  "kernelspec": {
   "display_name": "Python 3.10.0 ('datastructures')",
   "language": "python",
   "name": "python3"
  },
  "language_info": {
   "codemirror_mode": {
    "name": "ipython",
    "version": 3
   },
   "file_extension": ".py",
   "mimetype": "text/x-python",
   "name": "python",
   "nbconvert_exporter": "python",
   "pygments_lexer": "ipython3",
   "version": "3.10.0"
  },
  "orig_nbformat": 4
 },
 "nbformat": 4,
 "nbformat_minor": 2
}
