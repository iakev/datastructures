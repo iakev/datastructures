{
 "cells": [
  {
   "cell_type": "markdown",
   "metadata": {},
   "source": [
    "## Find Files Recursively\n",
    "\n",
    "### Design Considerations\n",
    "This problem required one to search for files with a certain extensions and return all such file extensions path's in a list. Since it's impossible to know the depth of a folder which contains a file, recursion proved to be the best way to solve this particular problem. Whereby, the base case is when the innermost folder has been accessed. \n",
    "\n",
    "### Time and Space complexity\n",
    "Since the recursion here happens inside a for loop, the time complexity of this problem is $O(2^n)$.\n",
    "\n",
    "The space complexity depends on the depth of the innermost folder and since one recursive call has a decreasing list data strucuture of maximum number of elements as `n1`. For example in this case the innermost folder is at level 4 and each recursive call can be said to have at most 7 items. Hence the space complexity can be $O(7*4)$, hence it is a linear space complexity expressed as $O(m*n1) = O(n)$ "
   ]
  },
  {
   "cell_type": "markdown",
   "metadata": {},
   "source": []
  }
 ],
 "metadata": {
  "language_info": {
   "name": "python"
  },
  "orig_nbformat": 4
 },
 "nbformat": 4,
 "nbformat_minor": 2
}
