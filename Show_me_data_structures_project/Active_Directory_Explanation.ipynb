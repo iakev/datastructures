{
 "cells": [
  {
   "cell_type": "markdown",
   "metadata": {},
   "source": [
    "## Problem Statement\n",
    "This problem is concerned on the presence of a user in a group. The said group can contain other groups which contain users.\n",
    "\n",
    "### Design Considerations\n",
    "The function `is_user_in_group` returns `True` or `False` depending on the presence or absence of user respectively. Since it is impossible to know the depth of groups and still imperative to search all groups this function implemented in a recursive manner.\n",
    "\n",
    "### Space and Time complexity\n",
    "Since this is a recursive function inside a for loop the time complexity becomes $O(2^n)$.\n",
    "\n",
    "Space complexity is $O(1)$ since no new data structure is added and we are not considering the input data."
   ]
  },
  {
   "cell_type": "markdown",
   "metadata": {},
   "source": []
  }
 ],
 "metadata": {
  "language_info": {
   "name": "python"
  },
  "orig_nbformat": 4
 },
 "nbformat": 4,
 "nbformat_minor": 2
}
