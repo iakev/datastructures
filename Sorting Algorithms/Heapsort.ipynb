{
 "cells": [
  {
   "cell_type": "markdown",
   "metadata": {},
   "source": [
    "# Heapsort\n",
    "\n",
    "A heapsort is an in-place sorting algorithm that treats an array like a binary tree and moves the largest values to the end of the heap until the full array is sorted.  \n",
    "\n",
    "The main steps in a heapsort are:\n",
    "1. Convert the array into a maxheap (a complete binary tree with decreasing values) \n",
    "2. Swap the top element with the last element in the array (putting it in it's correct final position)\n",
    "3. Repeat with `arr[:len(arr)-1]` (all but the sorted elements)\n",
    "\n",
    "## Visualization of a heapsort\n",
    "![animation of a heap sort](https://upload.wikimedia.org/wikipedia/commons/4/4d/Heapsort-example.gif)\n",
    "\n",
    "[\"Heapsort example\"](https://commons.wikimedia.org/wiki/File:Heapsort-example.gif) by Swfung8. Used under [CC BY-SA 3.0](https://creativecommons.org/licenses/by-sa/3.0/deed.en).\n",
    "\n",
    "## Problem statement\n",
    "\n",
    "In the cell below, see if you can code a `heapsort` function that takes an array (or Python list) and performs a heapsort on it. You will have to complete the heapify"
   ]
  },
  {
   "cell_type": "code",
   "execution_count": 11,
   "metadata": {},
   "outputs": [],
   "source": [
    "def heapsort(arr):\n",
    "    heapify(arr, len(arr), 0)\n",
    "    #swap top element with last element of array\n",
    "    #while loop to repeat the operation\n",
    "    input_array_size = len(arr)\n",
    "    while input_array_size != 2:\n",
    "        largest = arr[0]\n",
    "        smallest = arr[input_array_size-1]\n",
    "        arr[input_array_size-1] = largest\n",
    "        arr[0] = smallest\n",
    "        input_array_size -= 1\n",
    "        heapify(arr,input_array_size,0)\n",
    "        \n",
    "def heapify(arr, n, i):\n",
    "    \"\"\"\n",
    "    :param: arr - array to heapify\n",
    "    n -- number of elements in the array\n",
    "    i -- index of the current node\n",
    "    TODO: Converts an array (in place) into a maxheap, a complete binary tree with the largest values at the top\n",
    "    \"\"\"\n",
    "    #base case in recursive function or we are at the root.\n",
    "    if i < 0:\n",
    "        return\n",
    "\n",
    "    while i < n:\n",
    "        parent = i\n",
    "        #generating children indexes\n",
    "        left_child = (2 * i ) + 1\n",
    "        right_child = (2 * i ) + 2\n",
    "\n",
    "        #ensuring maximum heap property\n",
    "\n",
    "        if not (left_child > n or right_child >= n):\n",
    "\n",
    "            if not(right_child >= len(arr)):\n",
    "\n",
    "                if arr[left_child] <= arr[parent] and arr[right_child] <= arr[parent]:\n",
    "                    i += 1\n",
    "\n",
    "                else:\n",
    "                    \n",
    "                        if arr[left_child] > arr[right_child]:\n",
    "                            temp = arr[left_child]\n",
    "                            arr[left_child] = arr[parent]\n",
    "                            arr[parent] = temp\n",
    "                            parent = (parent - 1) //2\n",
    "                            heapify(arr,n,parent)\n",
    "                            i += 1\n",
    "\n",
    "\n",
    "                        elif arr[right_child] > arr[left_child]:\n",
    "                            temp = arr[right_child]\n",
    "                            arr[right_child] = arr[parent]\n",
    "                            arr[parent] = temp\n",
    "                            parent = (parent - 1) //2\n",
    "                            heapify(arr,n,parent)\n",
    "                            i += 1\n",
    "\n",
    "            else:\n",
    "                if arr[left_child] > arr[i]:\n",
    "                    temp = arr[left_child]\n",
    "                    arr[left_child] = arr[parent]\n",
    "                    arr[parent] = temp\n",
    "                    parent = (parent - 1) //2\n",
    "                    heapify(arr,n,parent)\n",
    "                    break\n",
    "\n",
    "                i += 1\n",
    "\n",
    "        else:\n",
    "            return"
   ]
  },
  {
   "cell_type": "code",
   "execution_count": 7,
   "metadata": {},
   "outputs": [],
   "source": [
    "def test_function(test_case):\n",
    "    heapsort(test_case[0])\n",
    "    if test_case[0] == test_case[1]:\n",
    "        print(\"Pass\")\n",
    "    else:\n",
    "        print(\"False\")"
   ]
  },
  {
   "cell_type": "code",
   "execution_count": 12,
   "metadata": {},
   "outputs": [
    {
     "name": "stdout",
     "output_type": "stream",
     "text": [
      "False\n"
     ]
    }
   ],
   "source": [
    "arr = [3, 7, 4, 6, 1, 0, 9, 8, 9, 4, 3, 5]\n",
    "solution = [0, 1, 3, 3, 4, 4, 5, 6, 7, 8, 9, 9]\n",
    "\n",
    "test_case = [arr, solution]\n",
    "\n",
    "test_function(test_case)"
   ]
  },
  {
   "cell_type": "code",
   "execution_count": 13,
   "metadata": {},
   "outputs": [],
   "source": [
    "arr = [5, 5, 5, 3, 3, 3, 4, 4, 4, 4]\n",
    "solution = [3, 3, 3, 4, 4, 4, 4, 5, 5, 5]\n",
    "test_case = [arr, solution]\n",
    "test_function(test_case)"
   ]
  },
  {
   "cell_type": "code",
   "execution_count": null,
   "metadata": {},
   "outputs": [],
   "source": [
    "arr = [99]\n",
    "solution = [99]\n",
    "test_case = [arr, solution]\n",
    "test_function(test_case)"
   ]
  },
  {
   "cell_type": "code",
   "execution_count": null,
   "metadata": {},
   "outputs": [],
   "source": [
    "arr = [0, 1, 2, 5, 12, 21, 0]\n",
    "solution = [0, 0, 1, 2, 5, 12, 21]\n",
    "test_case = [arr, solution]\n",
    "test_function(test_case)"
   ]
  }
 ],
 "metadata": {
  "interpreter": {
   "hash": "edd1d3549cf072e5f1c96c28c5126be4dddecf6bd9bc18231197754c991085f8"
  },
  "kernelspec": {
   "display_name": "Python 3.10.0 ('datastructures')",
   "language": "python",
   "name": "python3"
  },
  "language_info": {
   "codemirror_mode": {
    "name": "ipython",
    "version": 3
   },
   "file_extension": ".py",
   "mimetype": "text/x-python",
   "name": "python",
   "nbconvert_exporter": "python",
   "pygments_lexer": "ipython3",
   "version": "3.10.0"
  },
  "orig_nbformat": 4
 },
 "nbformat": 4,
 "nbformat_minor": 2
}
