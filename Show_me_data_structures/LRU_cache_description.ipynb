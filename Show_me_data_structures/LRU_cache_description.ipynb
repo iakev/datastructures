{
 "cells": [
  {
   "cell_type": "markdown",
   "metadata": {},
   "source": [
    "## Least Recently Used Cache\n",
    "\n",
    "We have briefly discussed caching as part of a practice problem while studying hash maps.\n",
    "\n",
    "The lookup operation (i.e., `get()`) and `put()` / `set()` is supposed to be fast for a cache memory.\n",
    "\n",
    "While doing the `get()` operation, if the entry is found in the cache, it is known as a `cache hit`. If, however, the entry is not found, it is known as a `cache miss`.\n",
    "\n",
    "When designing a cache, we also place an upper bound on the size of the cache. If the cache is full and we want to add a new entry to the cache, we use some criteria to remove an element. After removing an element, we use the `put()` operation to insert the new element. The remove operation should also be fast.\n",
    "\n",
    "For our first problem, the goal will be to design a data structure known as a **Least Recently Used (LRU) cache.** An LRU cache is a type of cache in which we remove the least recently used entry when the cache memory reaches its limit. For the current problem, consider both `get` and `set` operations as an `use operation`.\n",
    "\n",
    "Your job is to use an appropriate data structure(s) to implement the cache.\n",
    "\n",
    "- In case of `cache hit`, your `get()` operation should return the appropriate value.\n",
    "- In case of `cache miss`, your `get()` operation should return -1.\n",
    "- While putting an element in the cache, your `put()` / `set()` operation must insert the element. If the cache is full, you must write code that removes the least recently used entry first and then insert the element.\n",
    "\n",
    "All operations must take $O(1)$ time.\n",
    "\n",
    "For the current problem, you can consider the `size of cache = 5`.\n",
    "\n",
    "\n",
    "Here is some boiler plate code and some example test cases to get you started on this problem:"
   ]
  },
  {
   "cell_type": "code",
   "execution_count": 19,
   "metadata": {},
   "outputs": [],
   "source": [
    "class LRU_Cache:\n",
    "\n",
    "    def __init__(self, capacity):\n",
    "        # Initialize class variables\n",
    "        self.capacity = capacity\n",
    "        self.cache_dict = {} # a dictionary to store the key-value pairs in the cache data structure.\n",
    "        self.key_count = {} # a dictionary to associate a key with number of times it has been accessed\n",
    "        self.num_entries = 0 # to keep track of number of items in our cache\n",
    "\n",
    "    def get(self, key):\n",
    "        # Retrieve item from provided key. Return -1 if nonexistent. \n",
    "\n",
    "        if key in self.cache_dict:\n",
    "            value = self.cache_dict[key]\n",
    "            self.key_count[key] += 1  #to keep track of number of times a key is accessed/used\n",
    "            return value\n",
    "        \n",
    "        \n",
    "        return -1\n",
    "        \n",
    "    def set(self, key, value):\n",
    "        # Set the value if the key is not present in the cache. If the cache is at capacity remove the oldest item. \n",
    "        if self.num_entries < self.capacity:\n",
    "\n",
    "            if key not in self.cache_dict:\n",
    "                self.cache_dict[key] = value\n",
    "                self.key_count[key] = 0\n",
    "                self.num_entries += 1\n",
    "        else: #we take advantage of the fact that dictionaries are insertion ordered to find the least recently used key-value pair.\n",
    "            prev_count = 0\n",
    "            for k in self.cache_dict:\n",
    "                current_count = self.key_count[k]\n",
    "                if current_count < prev_count:\n",
    "                    del self.cache_dict[k]\n",
    "                    del self.key_count[k]\n",
    "                    self.cache_dict[key] = value\n",
    "                    return\n",
    "\n",
    "                prev_count = current_count\n",
    "\n"
   ]
  },
  {
   "cell_type": "code",
   "execution_count": 21,
   "metadata": {},
   "outputs": [
    {
     "data": {
      "text/plain": [
       "-1"
      ]
     },
     "execution_count": 21,
     "metadata": {},
     "output_type": "execute_result"
    }
   ],
   "source": [
    "our_cache = LRU_Cache(5)\n",
    "\n",
    "our_cache.set(1, 1);\n",
    "our_cache.set(2, 2);\n",
    "our_cache.set(3, 3);\n",
    "our_cache.set(4, 4);\n",
    "\n",
    "\n",
    "our_cache.get(1)       # returns 1\n",
    "our_cache.get(2)       # returns 2\n",
    "our_cache.get(9)      # returns -1 because 9 is not present in the cache\n",
    "\n",
    "our_cache.set(5, 5) \n",
    "our_cache.set(6, 6)\n",
    "\n",
    "our_cache.get(3)      # returns -1 because the cache reached it's capacity and 3 was the least recently used entry\n"
   ]
  },
  {
   "cell_type": "code",
   "execution_count": null,
   "metadata": {},
   "outputs": [],
   "source": []
  }
 ],
 "metadata": {
  "interpreter": {
   "hash": "edd1d3549cf072e5f1c96c28c5126be4dddecf6bd9bc18231197754c991085f8"
  },
  "kernelspec": {
   "display_name": "Python 3.10.0 ('datastructures')",
   "language": "python",
   "name": "python3"
  },
  "language_info": {
   "codemirror_mode": {
    "name": "ipython",
    "version": 3
   },
   "file_extension": ".py",
   "mimetype": "text/x-python",
   "name": "python",
   "nbconvert_exporter": "python",
   "pygments_lexer": "ipython3",
   "version": "3.10.0"
  },
  "orig_nbformat": 4
 },
 "nbformat": 4,
 "nbformat_minor": 2
}
